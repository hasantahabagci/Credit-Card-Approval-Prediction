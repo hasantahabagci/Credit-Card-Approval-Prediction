{
 "cells": [
  {
   "cell_type": "markdown",
   "metadata": {},
   "source": [
    "# YZV311E Data Mining Project Data Preprocessing and Exploration"
   ]
  },
  {
   "cell_type": "markdown",
   "metadata": {},
   "source": [
    "## Name : Yusuf Faruk Güldemir\n",
    "## Student ID : 150210302\n",
    "\n",
    "## Name : Hasan Taha Bağcı\n",
    "## Student ID : 150210338"
   ]
  },
  {
   "cell_type": "markdown",
   "metadata": {},
   "source": [
    "## -------------------------------"
   ]
  },
  {
   "cell_type": "markdown",
   "metadata": {},
   "source": [
    "## Importing Libraries"
   ]
  },
  {
   "cell_type": "code",
   "execution_count": 76,
   "metadata": {},
   "outputs": [
    {
     "name": "stdout",
     "output_type": "stream",
     "text": [
      "The autoreload extension is already loaded. To reload it, use:\n",
      "  %reload_ext autoreload\n"
     ]
    }
   ],
   "source": [
    "import pandas as pd\n",
    "import numpy as np\n",
    "import seaborn as sns\n",
    "import matplotlib.pyplot as plt\n",
    "\n",
    "from sklearn.preprocessing import LabelEncoder, StandardScaler, MinMaxScaler\n",
    "\n",
    "from utils.datapreprocess import *\n",
    "from utils.plotting import *\n",
    "\n",
    "%load_ext autoreload\n",
    "%autoreload 2\n",
    "%reload_ext autoreload\n",
    "\n",
    "import warnings\n",
    "warnings.filterwarnings('ignore')"
   ]
  },
  {
   "cell_type": "markdown",
   "metadata": {},
   "source": [
    "## Reading Data and Exploring General Features of Data"
   ]
  },
  {
   "cell_type": "code",
   "execution_count": 77,
   "metadata": {},
   "outputs": [],
   "source": [
    "df = pd.read_csv(\"data/application_record.csv\")\n",
    "record = pd.read_csv(\"data/credit_record.csv\")"
   ]
  },
  {
   "cell_type": "code",
   "execution_count": 78,
   "metadata": {},
   "outputs": [
    {
     "data": {
      "text/plain": [
       "(438557, 18)"
      ]
     },
     "execution_count": 78,
     "metadata": {},
     "output_type": "execute_result"
    }
   ],
   "source": [
    "df.shape "
   ]
  },
  {
   "cell_type": "markdown",
   "metadata": {},
   "source": [
    "* 438557 rows and 18 columns"
   ]
  },
  {
   "cell_type": "code",
   "execution_count": 79,
   "metadata": {},
   "outputs": [
    {
     "data": {
      "text/plain": [
       "(1048575, 3)"
      ]
     },
     "execution_count": 79,
     "metadata": {},
     "output_type": "execute_result"
    }
   ],
   "source": [
    "record.shape"
   ]
  },
  {
   "cell_type": "code",
   "execution_count": 80,
   "metadata": {},
   "outputs": [
    {
     "data": {
      "text/html": [
       "<div>\n",
       "<style scoped>\n",
       "    .dataframe tbody tr th:only-of-type {\n",
       "        vertical-align: middle;\n",
       "    }\n",
       "\n",
       "    .dataframe tbody tr th {\n",
       "        vertical-align: top;\n",
       "    }\n",
       "\n",
       "    .dataframe thead th {\n",
       "        text-align: right;\n",
       "    }\n",
       "</style>\n",
       "<table border=\"1\" class=\"dataframe\">\n",
       "  <thead>\n",
       "    <tr style=\"text-align: right;\">\n",
       "      <th></th>\n",
       "      <th>ID</th>\n",
       "      <th>CODE_GENDER</th>\n",
       "      <th>FLAG_OWN_CAR</th>\n",
       "      <th>FLAG_OWN_REALTY</th>\n",
       "      <th>CNT_CHILDREN</th>\n",
       "      <th>AMT_INCOME_TOTAL</th>\n",
       "      <th>NAME_INCOME_TYPE</th>\n",
       "      <th>NAME_EDUCATION_TYPE</th>\n",
       "      <th>NAME_FAMILY_STATUS</th>\n",
       "      <th>NAME_HOUSING_TYPE</th>\n",
       "      <th>DAYS_BIRTH</th>\n",
       "      <th>DAYS_EMPLOYED</th>\n",
       "      <th>FLAG_MOBIL</th>\n",
       "      <th>FLAG_WORK_PHONE</th>\n",
       "      <th>FLAG_PHONE</th>\n",
       "      <th>FLAG_EMAIL</th>\n",
       "      <th>OCCUPATION_TYPE</th>\n",
       "      <th>CNT_FAM_MEMBERS</th>\n",
       "    </tr>\n",
       "  </thead>\n",
       "  <tbody>\n",
       "    <tr>\n",
       "      <th>0</th>\n",
       "      <td>5008804</td>\n",
       "      <td>M</td>\n",
       "      <td>Y</td>\n",
       "      <td>Y</td>\n",
       "      <td>0</td>\n",
       "      <td>427500.0</td>\n",
       "      <td>Working</td>\n",
       "      <td>Higher education</td>\n",
       "      <td>Civil marriage</td>\n",
       "      <td>Rented apartment</td>\n",
       "      <td>-12005</td>\n",
       "      <td>-4542</td>\n",
       "      <td>1</td>\n",
       "      <td>1</td>\n",
       "      <td>0</td>\n",
       "      <td>0</td>\n",
       "      <td>NaN</td>\n",
       "      <td>2.0</td>\n",
       "    </tr>\n",
       "    <tr>\n",
       "      <th>1</th>\n",
       "      <td>5008805</td>\n",
       "      <td>M</td>\n",
       "      <td>Y</td>\n",
       "      <td>Y</td>\n",
       "      <td>0</td>\n",
       "      <td>427500.0</td>\n",
       "      <td>Working</td>\n",
       "      <td>Higher education</td>\n",
       "      <td>Civil marriage</td>\n",
       "      <td>Rented apartment</td>\n",
       "      <td>-12005</td>\n",
       "      <td>-4542</td>\n",
       "      <td>1</td>\n",
       "      <td>1</td>\n",
       "      <td>0</td>\n",
       "      <td>0</td>\n",
       "      <td>NaN</td>\n",
       "      <td>2.0</td>\n",
       "    </tr>\n",
       "    <tr>\n",
       "      <th>2</th>\n",
       "      <td>5008806</td>\n",
       "      <td>M</td>\n",
       "      <td>Y</td>\n",
       "      <td>Y</td>\n",
       "      <td>0</td>\n",
       "      <td>112500.0</td>\n",
       "      <td>Working</td>\n",
       "      <td>Secondary / secondary special</td>\n",
       "      <td>Married</td>\n",
       "      <td>House / apartment</td>\n",
       "      <td>-21474</td>\n",
       "      <td>-1134</td>\n",
       "      <td>1</td>\n",
       "      <td>0</td>\n",
       "      <td>0</td>\n",
       "      <td>0</td>\n",
       "      <td>Security staff</td>\n",
       "      <td>2.0</td>\n",
       "    </tr>\n",
       "    <tr>\n",
       "      <th>3</th>\n",
       "      <td>5008808</td>\n",
       "      <td>F</td>\n",
       "      <td>N</td>\n",
       "      <td>Y</td>\n",
       "      <td>0</td>\n",
       "      <td>270000.0</td>\n",
       "      <td>Commercial associate</td>\n",
       "      <td>Secondary / secondary special</td>\n",
       "      <td>Single / not married</td>\n",
       "      <td>House / apartment</td>\n",
       "      <td>-19110</td>\n",
       "      <td>-3051</td>\n",
       "      <td>1</td>\n",
       "      <td>0</td>\n",
       "      <td>1</td>\n",
       "      <td>1</td>\n",
       "      <td>Sales staff</td>\n",
       "      <td>1.0</td>\n",
       "    </tr>\n",
       "    <tr>\n",
       "      <th>4</th>\n",
       "      <td>5008809</td>\n",
       "      <td>F</td>\n",
       "      <td>N</td>\n",
       "      <td>Y</td>\n",
       "      <td>0</td>\n",
       "      <td>270000.0</td>\n",
       "      <td>Commercial associate</td>\n",
       "      <td>Secondary / secondary special</td>\n",
       "      <td>Single / not married</td>\n",
       "      <td>House / apartment</td>\n",
       "      <td>-19110</td>\n",
       "      <td>-3051</td>\n",
       "      <td>1</td>\n",
       "      <td>0</td>\n",
       "      <td>1</td>\n",
       "      <td>1</td>\n",
       "      <td>Sales staff</td>\n",
       "      <td>1.0</td>\n",
       "    </tr>\n",
       "  </tbody>\n",
       "</table>\n",
       "</div>"
      ],
      "text/plain": [
       "        ID CODE_GENDER FLAG_OWN_CAR FLAG_OWN_REALTY  CNT_CHILDREN  \\\n",
       "0  5008804           M            Y               Y             0   \n",
       "1  5008805           M            Y               Y             0   \n",
       "2  5008806           M            Y               Y             0   \n",
       "3  5008808           F            N               Y             0   \n",
       "4  5008809           F            N               Y             0   \n",
       "\n",
       "   AMT_INCOME_TOTAL      NAME_INCOME_TYPE            NAME_EDUCATION_TYPE  \\\n",
       "0          427500.0               Working               Higher education   \n",
       "1          427500.0               Working               Higher education   \n",
       "2          112500.0               Working  Secondary / secondary special   \n",
       "3          270000.0  Commercial associate  Secondary / secondary special   \n",
       "4          270000.0  Commercial associate  Secondary / secondary special   \n",
       "\n",
       "     NAME_FAMILY_STATUS  NAME_HOUSING_TYPE  DAYS_BIRTH  DAYS_EMPLOYED  \\\n",
       "0        Civil marriage   Rented apartment      -12005          -4542   \n",
       "1        Civil marriage   Rented apartment      -12005          -4542   \n",
       "2               Married  House / apartment      -21474          -1134   \n",
       "3  Single / not married  House / apartment      -19110          -3051   \n",
       "4  Single / not married  House / apartment      -19110          -3051   \n",
       "\n",
       "   FLAG_MOBIL  FLAG_WORK_PHONE  FLAG_PHONE  FLAG_EMAIL OCCUPATION_TYPE  \\\n",
       "0           1                1           0           0             NaN   \n",
       "1           1                1           0           0             NaN   \n",
       "2           1                0           0           0  Security staff   \n",
       "3           1                0           1           1     Sales staff   \n",
       "4           1                0           1           1     Sales staff   \n",
       "\n",
       "   CNT_FAM_MEMBERS  \n",
       "0              2.0  \n",
       "1              2.0  \n",
       "2              2.0  \n",
       "3              1.0  \n",
       "4              1.0  "
      ]
     },
     "execution_count": 80,
     "metadata": {},
     "output_type": "execute_result"
    }
   ],
   "source": [
    "df.head()"
   ]
  },
  {
   "cell_type": "code",
   "execution_count": 81,
   "metadata": {},
   "outputs": [
    {
     "data": {
      "text/plain": [
       "Index(['ID', 'CODE_GENDER', 'FLAG_OWN_CAR', 'FLAG_OWN_REALTY', 'CNT_CHILDREN',\n",
       "       'AMT_INCOME_TOTAL', 'NAME_INCOME_TYPE', 'NAME_EDUCATION_TYPE',\n",
       "       'NAME_FAMILY_STATUS', 'NAME_HOUSING_TYPE', 'DAYS_BIRTH',\n",
       "       'DAYS_EMPLOYED', 'FLAG_MOBIL', 'FLAG_WORK_PHONE', 'FLAG_PHONE',\n",
       "       'FLAG_EMAIL', 'OCCUPATION_TYPE', 'CNT_FAM_MEMBERS'],\n",
       "      dtype='object')"
      ]
     },
     "execution_count": 81,
     "metadata": {},
     "output_type": "execute_result"
    }
   ],
   "source": [
    "df.columns"
   ]
  },
  {
   "cell_type": "code",
   "execution_count": 82,
   "metadata": {},
   "outputs": [
    {
     "name": "stdout",
     "output_type": "stream",
     "text": [
      "<class 'pandas.core.frame.DataFrame'>\n",
      "RangeIndex: 438557 entries, 0 to 438556\n",
      "Data columns (total 18 columns):\n",
      " #   Column               Non-Null Count   Dtype  \n",
      "---  ------               --------------   -----  \n",
      " 0   ID                   438557 non-null  int64  \n",
      " 1   CODE_GENDER          438557 non-null  object \n",
      " 2   FLAG_OWN_CAR         438557 non-null  object \n",
      " 3   FLAG_OWN_REALTY      438557 non-null  object \n",
      " 4   CNT_CHILDREN         438557 non-null  int64  \n",
      " 5   AMT_INCOME_TOTAL     438557 non-null  float64\n",
      " 6   NAME_INCOME_TYPE     438557 non-null  object \n",
      " 7   NAME_EDUCATION_TYPE  438557 non-null  object \n",
      " 8   NAME_FAMILY_STATUS   438557 non-null  object \n",
      " 9   NAME_HOUSING_TYPE    438557 non-null  object \n",
      " 10  DAYS_BIRTH           438557 non-null  int64  \n",
      " 11  DAYS_EMPLOYED        438557 non-null  int64  \n",
      " 12  FLAG_MOBIL           438557 non-null  int64  \n",
      " 13  FLAG_WORK_PHONE      438557 non-null  int64  \n",
      " 14  FLAG_PHONE           438557 non-null  int64  \n",
      " 15  FLAG_EMAIL           438557 non-null  int64  \n",
      " 16  OCCUPATION_TYPE      304354 non-null  object \n",
      " 17  CNT_FAM_MEMBERS      438557 non-null  float64\n",
      "dtypes: float64(2), int64(8), object(8)\n",
      "memory usage: 60.2+ MB\n"
     ]
    }
   ],
   "source": [
    "df.info()"
   ]
  },
  {
   "cell_type": "code",
   "execution_count": 83,
   "metadata": {},
   "outputs": [
    {
     "data": {
      "text/html": [
       "<div>\n",
       "<style scoped>\n",
       "    .dataframe tbody tr th:only-of-type {\n",
       "        vertical-align: middle;\n",
       "    }\n",
       "\n",
       "    .dataframe tbody tr th {\n",
       "        vertical-align: top;\n",
       "    }\n",
       "\n",
       "    .dataframe thead th {\n",
       "        text-align: right;\n",
       "    }\n",
       "</style>\n",
       "<table border=\"1\" class=\"dataframe\">\n",
       "  <thead>\n",
       "    <tr style=\"text-align: right;\">\n",
       "      <th></th>\n",
       "      <th>ID</th>\n",
       "      <th>CNT_CHILDREN</th>\n",
       "      <th>AMT_INCOME_TOTAL</th>\n",
       "      <th>DAYS_BIRTH</th>\n",
       "      <th>DAYS_EMPLOYED</th>\n",
       "      <th>FLAG_MOBIL</th>\n",
       "      <th>FLAG_WORK_PHONE</th>\n",
       "      <th>FLAG_PHONE</th>\n",
       "      <th>FLAG_EMAIL</th>\n",
       "      <th>CNT_FAM_MEMBERS</th>\n",
       "    </tr>\n",
       "  </thead>\n",
       "  <tbody>\n",
       "    <tr>\n",
       "      <th>count</th>\n",
       "      <td>4.385570e+05</td>\n",
       "      <td>438557.000000</td>\n",
       "      <td>4.385570e+05</td>\n",
       "      <td>438557.000000</td>\n",
       "      <td>438557.000000</td>\n",
       "      <td>438557.0</td>\n",
       "      <td>438557.000000</td>\n",
       "      <td>438557.000000</td>\n",
       "      <td>438557.000000</td>\n",
       "      <td>438557.000000</td>\n",
       "    </tr>\n",
       "    <tr>\n",
       "      <th>mean</th>\n",
       "      <td>6.022176e+06</td>\n",
       "      <td>0.427390</td>\n",
       "      <td>1.875243e+05</td>\n",
       "      <td>-15997.904649</td>\n",
       "      <td>60563.675328</td>\n",
       "      <td>1.0</td>\n",
       "      <td>0.206133</td>\n",
       "      <td>0.287771</td>\n",
       "      <td>0.108207</td>\n",
       "      <td>2.194465</td>\n",
       "    </tr>\n",
       "    <tr>\n",
       "      <th>std</th>\n",
       "      <td>5.716370e+05</td>\n",
       "      <td>0.724882</td>\n",
       "      <td>1.100869e+05</td>\n",
       "      <td>4185.030007</td>\n",
       "      <td>138767.799647</td>\n",
       "      <td>0.0</td>\n",
       "      <td>0.404527</td>\n",
       "      <td>0.452724</td>\n",
       "      <td>0.310642</td>\n",
       "      <td>0.897207</td>\n",
       "    </tr>\n",
       "    <tr>\n",
       "      <th>min</th>\n",
       "      <td>5.008804e+06</td>\n",
       "      <td>0.000000</td>\n",
       "      <td>2.610000e+04</td>\n",
       "      <td>-25201.000000</td>\n",
       "      <td>-17531.000000</td>\n",
       "      <td>1.0</td>\n",
       "      <td>0.000000</td>\n",
       "      <td>0.000000</td>\n",
       "      <td>0.000000</td>\n",
       "      <td>1.000000</td>\n",
       "    </tr>\n",
       "    <tr>\n",
       "      <th>25%</th>\n",
       "      <td>5.609375e+06</td>\n",
       "      <td>0.000000</td>\n",
       "      <td>1.215000e+05</td>\n",
       "      <td>-19483.000000</td>\n",
       "      <td>-3103.000000</td>\n",
       "      <td>1.0</td>\n",
       "      <td>0.000000</td>\n",
       "      <td>0.000000</td>\n",
       "      <td>0.000000</td>\n",
       "      <td>2.000000</td>\n",
       "    </tr>\n",
       "    <tr>\n",
       "      <th>50%</th>\n",
       "      <td>6.047745e+06</td>\n",
       "      <td>0.000000</td>\n",
       "      <td>1.607805e+05</td>\n",
       "      <td>-15630.000000</td>\n",
       "      <td>-1467.000000</td>\n",
       "      <td>1.0</td>\n",
       "      <td>0.000000</td>\n",
       "      <td>0.000000</td>\n",
       "      <td>0.000000</td>\n",
       "      <td>2.000000</td>\n",
       "    </tr>\n",
       "    <tr>\n",
       "      <th>75%</th>\n",
       "      <td>6.456971e+06</td>\n",
       "      <td>1.000000</td>\n",
       "      <td>2.250000e+05</td>\n",
       "      <td>-12514.000000</td>\n",
       "      <td>-371.000000</td>\n",
       "      <td>1.0</td>\n",
       "      <td>0.000000</td>\n",
       "      <td>1.000000</td>\n",
       "      <td>0.000000</td>\n",
       "      <td>3.000000</td>\n",
       "    </tr>\n",
       "    <tr>\n",
       "      <th>max</th>\n",
       "      <td>7.999952e+06</td>\n",
       "      <td>19.000000</td>\n",
       "      <td>6.750000e+06</td>\n",
       "      <td>-7489.000000</td>\n",
       "      <td>365243.000000</td>\n",
       "      <td>1.0</td>\n",
       "      <td>1.000000</td>\n",
       "      <td>1.000000</td>\n",
       "      <td>1.000000</td>\n",
       "      <td>20.000000</td>\n",
       "    </tr>\n",
       "  </tbody>\n",
       "</table>\n",
       "</div>"
      ],
      "text/plain": [
       "                 ID   CNT_CHILDREN  AMT_INCOME_TOTAL     DAYS_BIRTH  \\\n",
       "count  4.385570e+05  438557.000000      4.385570e+05  438557.000000   \n",
       "mean   6.022176e+06       0.427390      1.875243e+05  -15997.904649   \n",
       "std    5.716370e+05       0.724882      1.100869e+05    4185.030007   \n",
       "min    5.008804e+06       0.000000      2.610000e+04  -25201.000000   \n",
       "25%    5.609375e+06       0.000000      1.215000e+05  -19483.000000   \n",
       "50%    6.047745e+06       0.000000      1.607805e+05  -15630.000000   \n",
       "75%    6.456971e+06       1.000000      2.250000e+05  -12514.000000   \n",
       "max    7.999952e+06      19.000000      6.750000e+06   -7489.000000   \n",
       "\n",
       "       DAYS_EMPLOYED  FLAG_MOBIL  FLAG_WORK_PHONE     FLAG_PHONE  \\\n",
       "count  438557.000000    438557.0    438557.000000  438557.000000   \n",
       "mean    60563.675328         1.0         0.206133       0.287771   \n",
       "std    138767.799647         0.0         0.404527       0.452724   \n",
       "min    -17531.000000         1.0         0.000000       0.000000   \n",
       "25%     -3103.000000         1.0         0.000000       0.000000   \n",
       "50%     -1467.000000         1.0         0.000000       0.000000   \n",
       "75%      -371.000000         1.0         0.000000       1.000000   \n",
       "max    365243.000000         1.0         1.000000       1.000000   \n",
       "\n",
       "          FLAG_EMAIL  CNT_FAM_MEMBERS  \n",
       "count  438557.000000    438557.000000  \n",
       "mean        0.108207         2.194465  \n",
       "std         0.310642         0.897207  \n",
       "min         0.000000         1.000000  \n",
       "25%         0.000000         2.000000  \n",
       "50%         0.000000         2.000000  \n",
       "75%         0.000000         3.000000  \n",
       "max         1.000000        20.000000  "
      ]
     },
     "execution_count": 83,
     "metadata": {},
     "output_type": "execute_result"
    }
   ],
   "source": [
    "df.describe()"
   ]
  },
  {
   "cell_type": "code",
   "execution_count": 84,
   "metadata": {},
   "outputs": [
    {
     "data": {
      "text/plain": [
       "ID                0\n",
       "MONTHS_BALANCE    0\n",
       "STATUS            0\n",
       "dtype: int64"
      ]
     },
     "execution_count": 84,
     "metadata": {},
     "output_type": "execute_result"
    }
   ],
   "source": [
    "record.isna().sum()"
   ]
  },
  {
   "cell_type": "code",
   "execution_count": 85,
   "metadata": {},
   "outputs": [
    {
     "data": {
      "text/plain": [
       "Index(['ID', 'MONTHS_BALANCE', 'STATUS'], dtype='object')"
      ]
     },
     "execution_count": 85,
     "metadata": {},
     "output_type": "execute_result"
    }
   ],
   "source": [
    "record.columns"
   ]
  },
  {
   "cell_type": "code",
   "execution_count": 86,
   "metadata": {},
   "outputs": [
    {
     "name": "stdout",
     "output_type": "stream",
     "text": [
      "<class 'pandas.core.frame.DataFrame'>\n",
      "RangeIndex: 1048575 entries, 0 to 1048574\n",
      "Data columns (total 3 columns):\n",
      " #   Column          Non-Null Count    Dtype \n",
      "---  ------          --------------    ----- \n",
      " 0   ID              1048575 non-null  int64 \n",
      " 1   MONTHS_BALANCE  1048575 non-null  int64 \n",
      " 2   STATUS          1048575 non-null  object\n",
      "dtypes: int64(2), object(1)\n",
      "memory usage: 24.0+ MB\n"
     ]
    }
   ],
   "source": [
    "record.info()"
   ]
  },
  {
   "cell_type": "code",
   "execution_count": 87,
   "metadata": {},
   "outputs": [
    {
     "data": {
      "text/plain": [
       "C    442031\n",
       "0    383120\n",
       "X    209230\n",
       "1     11090\n",
       "5      1693\n",
       "2       868\n",
       "3       320\n",
       "4       223\n",
       "Name: STATUS, dtype: int64"
      ]
     },
     "execution_count": 87,
     "metadata": {},
     "output_type": "execute_result"
    }
   ],
   "source": [
    "record.STATUS.value_counts()"
   ]
  },
  {
   "cell_type": "code",
   "execution_count": 88,
   "metadata": {},
   "outputs": [
    {
     "data": {
      "text/plain": [
       "-1     34436\n",
       "-2     34209\n",
       " 0     33856\n",
       "-3     33854\n",
       "-4     33365\n",
       "       ...  \n",
       "-56     2109\n",
       "-57     1649\n",
       "-58     1255\n",
       "-59      820\n",
       "-60      415\n",
       "Name: MONTHS_BALANCE, Length: 61, dtype: int64"
      ]
     },
     "execution_count": 88,
     "metadata": {},
     "output_type": "execute_result"
    }
   ],
   "source": [
    "record.MONTHS_BALANCE.value_counts()"
   ]
  },
  {
   "cell_type": "markdown",
   "metadata": {},
   "source": [
    "* We need to merge these 2 datasets by using \"user_id\" column as a key."
   ]
  },
  {
   "cell_type": "code",
   "execution_count": 89,
   "metadata": {},
   "outputs": [],
   "source": [
    "df = df.merge(record, on='ID', how='inner')"
   ]
  },
  {
   "cell_type": "code",
   "execution_count": 90,
   "metadata": {},
   "outputs": [
    {
     "data": {
      "text/html": [
       "<div>\n",
       "<style scoped>\n",
       "    .dataframe tbody tr th:only-of-type {\n",
       "        vertical-align: middle;\n",
       "    }\n",
       "\n",
       "    .dataframe tbody tr th {\n",
       "        vertical-align: top;\n",
       "    }\n",
       "\n",
       "    .dataframe thead th {\n",
       "        text-align: right;\n",
       "    }\n",
       "</style>\n",
       "<table border=\"1\" class=\"dataframe\">\n",
       "  <thead>\n",
       "    <tr style=\"text-align: right;\">\n",
       "      <th></th>\n",
       "      <th>ID</th>\n",
       "      <th>CODE_GENDER</th>\n",
       "      <th>FLAG_OWN_CAR</th>\n",
       "      <th>FLAG_OWN_REALTY</th>\n",
       "      <th>CNT_CHILDREN</th>\n",
       "      <th>AMT_INCOME_TOTAL</th>\n",
       "      <th>NAME_INCOME_TYPE</th>\n",
       "      <th>NAME_EDUCATION_TYPE</th>\n",
       "      <th>NAME_FAMILY_STATUS</th>\n",
       "      <th>NAME_HOUSING_TYPE</th>\n",
       "      <th>DAYS_BIRTH</th>\n",
       "      <th>DAYS_EMPLOYED</th>\n",
       "      <th>FLAG_MOBIL</th>\n",
       "      <th>FLAG_WORK_PHONE</th>\n",
       "      <th>FLAG_PHONE</th>\n",
       "      <th>FLAG_EMAIL</th>\n",
       "      <th>OCCUPATION_TYPE</th>\n",
       "      <th>CNT_FAM_MEMBERS</th>\n",
       "      <th>MONTHS_BALANCE</th>\n",
       "      <th>STATUS</th>\n",
       "    </tr>\n",
       "  </thead>\n",
       "  <tbody>\n",
       "    <tr>\n",
       "      <th>743944</th>\n",
       "      <td>5148775</td>\n",
       "      <td>M</td>\n",
       "      <td>Y</td>\n",
       "      <td>Y</td>\n",
       "      <td>0</td>\n",
       "      <td>144000.0</td>\n",
       "      <td>Working</td>\n",
       "      <td>Secondary / secondary special</td>\n",
       "      <td>Married</td>\n",
       "      <td>House / apartment</td>\n",
       "      <td>-10367</td>\n",
       "      <td>-2389</td>\n",
       "      <td>1</td>\n",
       "      <td>0</td>\n",
       "      <td>1</td>\n",
       "      <td>0</td>\n",
       "      <td>Sales staff</td>\n",
       "      <td>2.0</td>\n",
       "      <td>-10</td>\n",
       "      <td>C</td>\n",
       "    </tr>\n",
       "    <tr>\n",
       "      <th>709990</th>\n",
       "      <td>5142547</td>\n",
       "      <td>F</td>\n",
       "      <td>Y</td>\n",
       "      <td>Y</td>\n",
       "      <td>0</td>\n",
       "      <td>157500.0</td>\n",
       "      <td>Commercial associate</td>\n",
       "      <td>Higher education</td>\n",
       "      <td>Single / not married</td>\n",
       "      <td>House / apartment</td>\n",
       "      <td>-15849</td>\n",
       "      <td>-1138</td>\n",
       "      <td>1</td>\n",
       "      <td>0</td>\n",
       "      <td>0</td>\n",
       "      <td>0</td>\n",
       "      <td>Private service staff</td>\n",
       "      <td>1.0</td>\n",
       "      <td>-9</td>\n",
       "      <td>C</td>\n",
       "    </tr>\n",
       "    <tr>\n",
       "      <th>315606</th>\n",
       "      <td>5061619</td>\n",
       "      <td>M</td>\n",
       "      <td>Y</td>\n",
       "      <td>Y</td>\n",
       "      <td>0</td>\n",
       "      <td>427500.0</td>\n",
       "      <td>State servant</td>\n",
       "      <td>Incomplete higher</td>\n",
       "      <td>Single / not married</td>\n",
       "      <td>Rented apartment</td>\n",
       "      <td>-11943</td>\n",
       "      <td>-3150</td>\n",
       "      <td>1</td>\n",
       "      <td>0</td>\n",
       "      <td>1</td>\n",
       "      <td>0</td>\n",
       "      <td>High skill tech staff</td>\n",
       "      <td>1.0</td>\n",
       "      <td>-15</td>\n",
       "      <td>C</td>\n",
       "    </tr>\n",
       "    <tr>\n",
       "      <th>100671</th>\n",
       "      <td>5024769</td>\n",
       "      <td>F</td>\n",
       "      <td>N</td>\n",
       "      <td>Y</td>\n",
       "      <td>0</td>\n",
       "      <td>180000.0</td>\n",
       "      <td>Working</td>\n",
       "      <td>Secondary / secondary special</td>\n",
       "      <td>Married</td>\n",
       "      <td>House / apartment</td>\n",
       "      <td>-14749</td>\n",
       "      <td>-884</td>\n",
       "      <td>1</td>\n",
       "      <td>1</td>\n",
       "      <td>1</td>\n",
       "      <td>0</td>\n",
       "      <td>Cooking staff</td>\n",
       "      <td>2.0</td>\n",
       "      <td>-46</td>\n",
       "      <td>C</td>\n",
       "    </tr>\n",
       "    <tr>\n",
       "      <th>749393</th>\n",
       "      <td>5149101</td>\n",
       "      <td>F</td>\n",
       "      <td>N</td>\n",
       "      <td>Y</td>\n",
       "      <td>0</td>\n",
       "      <td>67500.0</td>\n",
       "      <td>Pensioner</td>\n",
       "      <td>Secondary / secondary special</td>\n",
       "      <td>Married</td>\n",
       "      <td>House / apartment</td>\n",
       "      <td>-21026</td>\n",
       "      <td>365243</td>\n",
       "      <td>1</td>\n",
       "      <td>0</td>\n",
       "      <td>0</td>\n",
       "      <td>0</td>\n",
       "      <td>NaN</td>\n",
       "      <td>2.0</td>\n",
       "      <td>-40</td>\n",
       "      <td>X</td>\n",
       "    </tr>\n",
       "  </tbody>\n",
       "</table>\n",
       "</div>"
      ],
      "text/plain": [
       "             ID CODE_GENDER FLAG_OWN_CAR FLAG_OWN_REALTY  CNT_CHILDREN  \\\n",
       "743944  5148775           M            Y               Y             0   \n",
       "709990  5142547           F            Y               Y             0   \n",
       "315606  5061619           M            Y               Y             0   \n",
       "100671  5024769           F            N               Y             0   \n",
       "749393  5149101           F            N               Y             0   \n",
       "\n",
       "        AMT_INCOME_TOTAL      NAME_INCOME_TYPE            NAME_EDUCATION_TYPE  \\\n",
       "743944          144000.0               Working  Secondary / secondary special   \n",
       "709990          157500.0  Commercial associate               Higher education   \n",
       "315606          427500.0         State servant              Incomplete higher   \n",
       "100671          180000.0               Working  Secondary / secondary special   \n",
       "749393           67500.0             Pensioner  Secondary / secondary special   \n",
       "\n",
       "          NAME_FAMILY_STATUS  NAME_HOUSING_TYPE  DAYS_BIRTH  DAYS_EMPLOYED  \\\n",
       "743944               Married  House / apartment      -10367          -2389   \n",
       "709990  Single / not married  House / apartment      -15849          -1138   \n",
       "315606  Single / not married   Rented apartment      -11943          -3150   \n",
       "100671               Married  House / apartment      -14749           -884   \n",
       "749393               Married  House / apartment      -21026         365243   \n",
       "\n",
       "        FLAG_MOBIL  FLAG_WORK_PHONE  FLAG_PHONE  FLAG_EMAIL  \\\n",
       "743944           1                0           1           0   \n",
       "709990           1                0           0           0   \n",
       "315606           1                0           1           0   \n",
       "100671           1                1           1           0   \n",
       "749393           1                0           0           0   \n",
       "\n",
       "              OCCUPATION_TYPE  CNT_FAM_MEMBERS  MONTHS_BALANCE STATUS  \n",
       "743944            Sales staff              2.0             -10      C  \n",
       "709990  Private service staff              1.0              -9      C  \n",
       "315606  High skill tech staff              1.0             -15      C  \n",
       "100671          Cooking staff              2.0             -46      C  \n",
       "749393                    NaN              2.0             -40      X  "
      ]
     },
     "execution_count": 90,
     "metadata": {},
     "output_type": "execute_result"
    }
   ],
   "source": [
    "df.sample(5)"
   ]
  },
  {
   "cell_type": "markdown",
   "metadata": {},
   "source": [
    "#### Changing the columns lower names for better understanding"
   ]
  },
  {
   "cell_type": "code",
   "execution_count": 91,
   "metadata": {},
   "outputs": [],
   "source": [
    "df.columns = df.columns.str.lower()"
   ]
  },
  {
   "cell_type": "markdown",
   "metadata": {},
   "source": [
    "#### Getting Categoric and Numeric Features"
   ]
  },
  {
   "cell_type": "code",
   "execution_count": 92,
   "metadata": {},
   "outputs": [
    {
     "name": "stdout",
     "output_type": "stream",
     "text": [
      "Column :  id\n",
      "Number of unique values:  36457 - Is it categorical :  False\n",
      "Column :  code_gender\n",
      "Number of unique values:  2 - Is it categorical :  True\n",
      "Column :  flag_own_car\n",
      "Number of unique values:  2 - Is it categorical :  True\n",
      "Column :  flag_own_realty\n",
      "Number of unique values:  2 - Is it categorical :  True\n",
      "Column :  cnt_children\n",
      "Number of unique values:  9 - Is it categorical :  True\n",
      "Column :  amt_income_total\n",
      "Number of unique values:  265 - Is it categorical :  False\n",
      "Column :  name_income_type\n",
      "Number of unique values:  5 - Is it categorical :  True\n",
      "Column :  name_education_type\n",
      "Number of unique values:  5 - Is it categorical :  True\n",
      "Column :  name_family_status\n",
      "Number of unique values:  5 - Is it categorical :  True\n",
      "Column :  name_housing_type\n",
      "Number of unique values:  6 - Is it categorical :  True\n",
      "Column :  days_birth\n",
      "Number of unique values:  7183 - Is it categorical :  False\n",
      "Column :  days_employed\n",
      "Number of unique values:  3640 - Is it categorical :  False\n",
      "Column :  flag_mobil\n",
      "Number of unique values:  1 - Is it categorical :  True\n",
      "Column :  flag_work_phone\n",
      "Number of unique values:  2 - Is it categorical :  True\n",
      "Column :  flag_phone\n",
      "Number of unique values:  2 - Is it categorical :  True\n",
      "Column :  flag_email\n",
      "Number of unique values:  2 - Is it categorical :  True\n",
      "Column :  occupation_type\n",
      "Number of unique values:  18 - Is it categorical :  False\n",
      "Column :  cnt_fam_members\n",
      "Number of unique values:  10 - Is it categorical :  True\n",
      "Column :  months_balance\n",
      "Number of unique values:  61 - Is it categorical :  False\n",
      "Column :  status\n",
      "Number of unique values:  8 - Is it categorical :  True\n",
      "Categorical features :  ['code_gender', 'flag_own_car', 'flag_own_realty', 'cnt_children', 'name_income_type', 'name_education_type', 'name_family_status', 'name_housing_type', 'flag_mobil', 'flag_work_phone', 'flag_phone', 'flag_email', 'cnt_fam_members', 'status']\n",
      "Numerical features :  ['id', 'cnt_children', 'amt_income_total', 'days_birth', 'days_employed', 'flag_mobil', 'flag_work_phone', 'flag_phone', 'flag_email', 'cnt_fam_members', 'months_balance']\n"
     ]
    }
   ],
   "source": [
    "categorical_features = []\n",
    "numerical_features = []\n",
    "for col in df.columns:\n",
    "    iscategoric = isCategorical(df, col, threshold=10)\n",
    "    isnumeric = isNumerical(df, col)\n",
    "    print(\"Column : \", col)\n",
    "    print(\"Number of unique values: \", df[col].nunique(), \"- Is it categorical : \", iscategoric)\n",
    "    if iscategoric:\n",
    "        categorical_features.append(col)\n",
    "    if isnumeric:\n",
    "        numerical_features.append(col)\n",
    "\n",
    "\n",
    "print(\"Categorical features : \", categorical_features)\n",
    "print(\"Numerical features : \", numerical_features)"
   ]
  },
  {
   "cell_type": "markdown",
   "metadata": {},
   "source": [
    "#### Information about Missing Values"
   ]
  },
  {
   "cell_type": "code",
   "execution_count": 93,
   "metadata": {},
   "outputs": [
    {
     "data": {
      "text/plain": [
       "id                          0\n",
       "code_gender                 0\n",
       "flag_own_car                0\n",
       "flag_own_realty             0\n",
       "cnt_children                0\n",
       "amt_income_total            0\n",
       "name_income_type            0\n",
       "name_education_type         0\n",
       "name_family_status          0\n",
       "name_housing_type           0\n",
       "days_birth                  0\n",
       "days_employed               0\n",
       "flag_mobil                  0\n",
       "flag_work_phone             0\n",
       "flag_phone                  0\n",
       "flag_email                  0\n",
       "occupation_type        240048\n",
       "cnt_fam_members             0\n",
       "months_balance              0\n",
       "status                      0\n",
       "dtype: int64"
      ]
     },
     "execution_count": 93,
     "metadata": {},
     "output_type": "execute_result"
    }
   ],
   "source": [
    "df.isna().sum()"
   ]
  },
  {
   "cell_type": "markdown",
   "metadata": {},
   "source": [
    "* It is seen that there are missing values only Occupation Type column."
   ]
  },
  {
   "cell_type": "markdown",
   "metadata": {},
   "source": [
    "#### Correlation Matrix of Data"
   ]
  },
  {
   "cell_type": "code",
   "execution_count": 94,
   "metadata": {},
   "outputs": [
    {
     "data": {
      "text/plain": [
       "<AxesSubplot:>"
      ]
     },
     "execution_count": 94,
     "metadata": {},
     "output_type": "execute_result"
    },
    {
     "data": {
      "image/png": "[encoded data removed]",
      "text/plain": [
       "<Figure size 1200x1000 with 2 Axes>"
      ]
     },
     "metadata": {},
     "output_type": "display_data"
    }
   ],
   "source": [
    "# Correlation matrix\n",
    "corr = df.corr()\n",
    "plt.figure(figsize=(12, 10))\n",
    "sns.heatmap(corr,\n",
    "            xticklabels=corr.columns,\n",
    "            yticklabels=corr.columns,\n",
    "            cmap='RdBu_r',\n",
    "            annot=True,\n",
    "            linewidth=0.5)\n"
   ]
  },
  {
   "cell_type": "markdown",
   "metadata": {},
   "source": [
    "## Data Preprocessing"
   ]
  },
  {
   "cell_type": "markdown",
   "metadata": {},
   "source": [
    "### Occupation Type Column"
   ]
  },
  {
   "cell_type": "code",
   "execution_count": 95,
   "metadata": {},
   "outputs": [
    {
     "name": "stdout",
     "output_type": "stream",
     "text": [
      "Laborers                 131572\n",
      "Core staff                77112\n",
      "Sales staff               70362\n",
      "Managers                  67738\n",
      "Drivers                   47678\n",
      "High skill tech staff     31768\n",
      "Accountants               27223\n",
      "Medicine staff            26691\n",
      "Cooking staff             13416\n",
      "Security staff            12400\n",
      "Cleaning staff            11399\n",
      "Private service staff      6714\n",
      "Low-skill Laborers         3623\n",
      "Secretaries                3149\n",
      "Waiters/barmen staff       2557\n",
      "HR staff                   1686\n",
      "IT staff                   1319\n",
      "Realty agents              1260\n",
      "Name: occupation_type, dtype: int64\n"
     ]
    },
    {
     "data": {
      "image/png": "[encoded data removed]",
      "text/plain": [
       "<Figure size 640x480 with 1 Axes>"
      ]
     },
     "metadata": {},
     "output_type": "display_data"
    }
   ],
   "source": [
    "print(df[\"occupation_type\"].value_counts())\n",
    "\n",
    "df[\"occupation_type\"].value_counts().plot(kind='bar')\n",
    "plt.show()"
   ]
  },
  {
   "cell_type": "code",
   "execution_count": 96,
   "metadata": {},
   "outputs": [
    {
     "data": {
      "text/plain": [
       "240048"
      ]
     },
     "execution_count": 96,
     "metadata": {},
     "output_type": "execute_result"
    }
   ],
   "source": [
    "df[\"occupation_type\"].isna().sum()"
   ]
  },
  {
   "cell_type": "markdown",
   "metadata": {},
   "source": [
    "#### Filling Missing Values of Occupation Type Column with \"Unknown\" Value"
   ]
  },
  {
   "cell_type": "code",
   "execution_count": 97,
   "metadata": {},
   "outputs": [],
   "source": [
    "df[\"occupation_type\"].fillna(\"Unknown\", inplace=True)"
   ]
  },
  {
   "cell_type": "code",
   "execution_count": 98,
   "metadata": {},
   "outputs": [
    {
     "data": {
      "text/plain": [
       "id                     0\n",
       "code_gender            0\n",
       "flag_own_car           0\n",
       "flag_own_realty        0\n",
       "cnt_children           0\n",
       "amt_income_total       0\n",
       "name_income_type       0\n",
       "name_education_type    0\n",
       "name_family_status     0\n",
       "name_housing_type      0\n",
       "days_birth             0\n",
       "days_employed          0\n",
       "flag_mobil             0\n",
       "flag_work_phone        0\n",
       "flag_phone             0\n",
       "flag_email             0\n",
       "occupation_type        0\n",
       "cnt_fam_members        0\n",
       "months_balance         0\n",
       "status                 0\n",
       "dtype: int64"
      ]
     },
     "execution_count": 98,
     "metadata": {},
     "output_type": "execute_result"
    }
   ],
   "source": [
    "df.isna().sum()"
   ]
  },
  {
   "cell_type": "markdown",
   "metadata": {},
   "source": [
    "#### Labeling Occupation Type Column"
   ]
  },
  {
   "cell_type": "markdown",
   "metadata": {},
   "source": [
    "* It is not seen as categoric feature beacuse of the threshold value is 10. However, we will use this column as categoric feature. So labeling is necessary."
   ]
  },
  {
   "cell_type": "code",
   "execution_count": 99,
   "metadata": {},
   "outputs": [
    {
     "data": {
      "text/plain": [
       "Unknown                  240048\n",
       "Laborers                 131572\n",
       "Core staff                77112\n",
       "Sales staff               70362\n",
       "Managers                  67738\n",
       "Drivers                   47678\n",
       "High skill tech staff     31768\n",
       "Accountants               27223\n",
       "Medicine staff            26691\n",
       "Cooking staff             13416\n",
       "Security staff            12400\n",
       "Cleaning staff            11399\n",
       "Private service staff      6714\n",
       "Low-skill Laborers         3623\n",
       "Secretaries                3149\n",
       "Waiters/barmen staff       2557\n",
       "HR staff                   1686\n",
       "IT staff                   1319\n",
       "Realty agents              1260\n",
       "Name: occupation_type, dtype: int64"
      ]
     },
     "execution_count": 99,
     "metadata": {},
     "output_type": "execute_result"
    }
   ],
   "source": [
    "df.occupation_type.value_counts()"
   ]
  },
  {
   "cell_type": "code",
   "execution_count": 100,
   "metadata": {},
   "outputs": [],
   "source": [
    "df.occupation_type = labelEncoding(df, \"occupation_type\")"
   ]
  },
  {
   "cell_type": "code",
   "execution_count": 101,
   "metadata": {},
   "outputs": [
    {
     "data": {
      "text/plain": [
       "17    240048\n",
       "8     131572\n",
       "3      77112\n",
       "14     70362\n",
       "10     67738\n",
       "4      47678\n",
       "6      31768\n",
       "0      27223\n",
       "11     26691\n",
       "2      13416\n",
       "16     12400\n",
       "1      11399\n",
       "12      6714\n",
       "9       3623\n",
       "15      3149\n",
       "18      2557\n",
       "5       1686\n",
       "7       1319\n",
       "13      1260\n",
       "Name: occupation_type, dtype: int64"
      ]
     },
     "execution_count": 101,
     "metadata": {},
     "output_type": "execute_result"
    }
   ],
   "source": [
    "df.occupation_type.value_counts()"
   ]
  },
  {
   "cell_type": "markdown",
   "metadata": {},
   "source": [
    "### Days_Birth and Days_Employed Columns"
   ]
  },
  {
   "cell_type": "code",
   "execution_count": 102,
   "metadata": {},
   "outputs": [
    {
     "data": {
      "text/plain": [
       "count    777715.000000\n",
       "mean     -16124.937046\n",
       "std        4104.304018\n",
       "min      -25152.000000\n",
       "25%      -19453.000000\n",
       "50%      -15760.000000\n",
       "75%      -12716.000000\n",
       "max       -7489.000000\n",
       "Name: days_birth, dtype: float64"
      ]
     },
     "execution_count": 102,
     "metadata": {},
     "output_type": "execute_result"
    }
   ],
   "source": [
    "df[\"days_birth\"].describe()"
   ]
  },
  {
   "cell_type": "markdown",
   "metadata": {},
   "source": [
    "* Days_birth column is negative values. It shows the days passed from the birth of the person to the application date. So we need to convert it to positive values and convert it to years."
   ]
  },
  {
   "cell_type": "code",
   "execution_count": 103,
   "metadata": {},
   "outputs": [],
   "source": [
    "df[\"days_birth\"] = round(abs(df[\"days_birth\"]) / 365, 2)"
   ]
  },
  {
   "cell_type": "code",
   "execution_count": 104,
   "metadata": {},
   "outputs": [
    {
     "data": {
      "text/plain": [
       "count    777715.000000\n",
       "mean         44.177938\n",
       "std          11.244663\n",
       "min          20.520000\n",
       "25%          34.840000\n",
       "50%          43.180000\n",
       "75%          53.300000\n",
       "max          68.910000\n",
       "Name: days_birth, dtype: float64"
      ]
     },
     "execution_count": 104,
     "metadata": {},
     "output_type": "execute_result"
    }
   ],
   "source": [
    "df[\"days_birth\"].describe()"
   ]
  },
  {
   "cell_type": "code",
   "execution_count": 105,
   "metadata": {},
   "outputs": [
    {
     "data": {
      "image/png": "[encoded data removed]",
      "text/plain": [
       "<Figure size 1000x600 with 1 Axes>"
      ]
     },
     "metadata": {},
     "output_type": "display_data"
    }
   ],
   "source": [
    "plotdist(df, \"days_birth\", mx=0.037)"
   ]
  },
  {
   "cell_type": "markdown",
   "metadata": {},
   "source": [
    "Also it is same for days_emloyed column. However if the value is positive, it means that the person is unemployed. So we need to convert it to 0."
   ]
  },
  {
   "cell_type": "code",
   "execution_count": 106,
   "metadata": {},
   "outputs": [
    {
     "data": {
      "text/plain": [
       "count    777715.000000\n",
       "mean      57775.825016\n",
       "std      136471.735391\n",
       "min      -15713.000000\n",
       "25%       -3292.000000\n",
       "50%       -1682.000000\n",
       "75%        -431.000000\n",
       "max      365243.000000\n",
       "Name: days_employed, dtype: float64"
      ]
     },
     "execution_count": 106,
     "metadata": {},
     "output_type": "execute_result"
    }
   ],
   "source": [
    "df[\"days_employed\"].describe()"
   ]
  },
  {
   "cell_type": "code",
   "execution_count": 107,
   "metadata": {},
   "outputs": [
    {
     "name": "stdout",
     "output_type": "stream",
     "text": [
      "(127972, 20)\n"
     ]
    },
    {
     "data": {
      "text/plain": [
       "count    127972.0\n",
       "mean     365243.0\n",
       "std           0.0\n",
       "min      365243.0\n",
       "25%      365243.0\n",
       "50%      365243.0\n",
       "75%      365243.0\n",
       "max      365243.0\n",
       "Name: days_employed, dtype: float64"
      ]
     },
     "execution_count": 107,
     "metadata": {},
     "output_type": "execute_result"
    }
   ],
   "source": [
    "print(df[df[\"days_employed\"] > 0].shape)\n",
    "df[df[\"days_employed\"] > 0][\"days_employed\"].describe()"
   ]
  },
  {
   "cell_type": "markdown",
   "metadata": {},
   "source": [
    "* 127792 rows are 0. It means that these people are unemployed."
   ]
  },
  {
   "cell_type": "code",
   "execution_count": 108,
   "metadata": {},
   "outputs": [
    {
     "data": {
      "text/plain": [
       "count    777715.000000\n",
       "mean          6.368443\n",
       "std           6.684403\n",
       "min           0.000000\n",
       "25%           1.180000\n",
       "50%           4.610000\n",
       "75%           9.020000\n",
       "max          43.050000\n",
       "Name: days_employed, dtype: float64"
      ]
     },
     "execution_count": 108,
     "metadata": {},
     "output_type": "execute_result"
    }
   ],
   "source": [
    "df[\"days_employed\"] = [x if x < 0 else 0 for x in df[\"days_employed\"]] # replace positive values with 0. It means that the person is unemployed\n",
    "df[\"days_employed\"] = round(abs(df[\"days_employed\"]) / 365, 2)\n",
    "\n",
    "df[\"days_employed\"].describe()"
   ]
  },
  {
   "cell_type": "code",
   "execution_count": 109,
   "metadata": {},
   "outputs": [
    {
     "data": {
      "image/png": "[encoded data removed]",
      "text/plain": [
       "<Figure size 1000x600 with 1 Axes>"
      ]
     },
     "metadata": {},
     "output_type": "display_data"
    }
   ],
   "source": [
    "plotdist(df, \"days_employed\", mx=0.25)"
   ]
  },
  {
   "cell_type": "code",
   "execution_count": 110,
   "metadata": {},
   "outputs": [],
   "source": [
    "df.rename(columns={\"days_employed\": \"years_employed\",\n",
    "                     \"days_birth\": \"age\"}, inplace=True)"
   ]
  },
  {
   "cell_type": "markdown",
   "metadata": {},
   "source": [
    "### Name Income Type Column"
   ]
  },
  {
   "cell_type": "code",
   "execution_count": 111,
   "metadata": {},
   "outputs": [
    {
     "data": {
      "text/plain": [
       "True"
      ]
     },
     "execution_count": 111,
     "metadata": {},
     "output_type": "execute_result"
    }
   ],
   "source": [
    "\"name_income_type\" in categorical_features"
   ]
  },
  {
   "cell_type": "code",
   "execution_count": 112,
   "metadata": {},
   "outputs": [
    {
     "data": {
      "text/plain": [
       "Working                 400164\n",
       "Commercial associate    183385\n",
       "Pensioner               128392\n",
       "State servant            65437\n",
       "Student                    337\n",
       "Name: name_income_type, dtype: int64"
      ]
     },
     "execution_count": 112,
     "metadata": {},
     "output_type": "execute_result"
    }
   ],
   "source": [
    "df[\"name_income_type\"].value_counts() # Categoric"
   ]
  },
  {
   "cell_type": "code",
   "execution_count": 113,
   "metadata": {},
   "outputs": [],
   "source": [
    "df.name_income_type = labelEncoding(df, \"name_income_type\")"
   ]
  },
  {
   "cell_type": "code",
   "execution_count": 114,
   "metadata": {},
   "outputs": [
    {
     "data": {
      "text/plain": [
       "4    400164\n",
       "0    183385\n",
       "1    128392\n",
       "2     65437\n",
       "3       337\n",
       "Name: name_income_type, dtype: int64"
      ]
     },
     "execution_count": 114,
     "metadata": {},
     "output_type": "execute_result"
    }
   ],
   "source": [
    "df.name_income_type.value_counts()"
   ]
  },
  {
   "cell_type": "markdown",
   "metadata": {},
   "source": [
    "#### Name Education Type Column"
   ]
  },
  {
   "cell_type": "code",
   "execution_count": 115,
   "metadata": {},
   "outputs": [
    {
     "data": {
      "text/plain": [
       "Secondary / secondary special    524261\n",
       "Higher education                 213633\n",
       "Incomplete higher                 30329\n",
       "Lower secondary                    8655\n",
       "Academic degree                     837\n",
       "Name: name_education_type, dtype: int64"
      ]
     },
     "execution_count": 115,
     "metadata": {},
     "output_type": "execute_result"
    }
   ],
   "source": [
    "df[\"name_education_type\"].value_counts() # Categoric"
   ]
  },
  {
   "cell_type": "code",
   "execution_count": 116,
   "metadata": {},
   "outputs": [
    {
     "data": {
      "text/plain": [
       "4    524261\n",
       "1    213633\n",
       "2     30329\n",
       "3      8655\n",
       "0       837\n",
       "Name: name_education_type, dtype: int64"
      ]
     },
     "execution_count": 116,
     "metadata": {},
     "output_type": "execute_result"
    }
   ],
   "source": [
    "df.name_education_type = labelEncoding(df, \"name_education_type\")\n",
    "\n",
    "df.name_education_type.value_counts()"
   ]
  },
  {
   "cell_type": "markdown",
   "metadata": {},
   "source": [
    "#### Name Family Status Column"
   ]
  },
  {
   "cell_type": "code",
   "execution_count": 117,
   "metadata": {},
   "outputs": [
    {
     "data": {
      "text/plain": [
       "Married                 546619\n",
       "Single / not married     94335\n",
       "Civil marriage           60342\n",
       "Separated                45255\n",
       "Widow                    31164\n",
       "Name: name_family_status, dtype: int64"
      ]
     },
     "execution_count": 117,
     "metadata": {},
     "output_type": "execute_result"
    }
   ],
   "source": [
    "df[\"name_family_status\"].value_counts() # Categoric"
   ]
  },
  {
   "cell_type": "code",
   "execution_count": 118,
   "metadata": {},
   "outputs": [],
   "source": [
    "df.name_family_status = labelEncoding(df, \"name_family_status\")"
   ]
  },
  {
   "cell_type": "code",
   "execution_count": 119,
   "metadata": {},
   "outputs": [
    {
     "data": {
      "text/plain": [
       "1    546619\n",
       "3     94335\n",
       "0     60342\n",
       "2     45255\n",
       "4     31164\n",
       "Name: name_family_status, dtype: int64"
      ]
     },
     "execution_count": 119,
     "metadata": {},
     "output_type": "execute_result"
    }
   ],
   "source": [
    "df.name_family_status.value_counts()"
   ]
  },
  {
   "cell_type": "markdown",
   "metadata": {},
   "source": [
    "#### Name Housing Type Column"
   ]
  },
  {
   "cell_type": "code",
   "execution_count": 120,
   "metadata": {},
   "outputs": [
    {
     "data": {
      "text/plain": [
       "House / apartment      697151\n",
       "With parents            35735\n",
       "Municipal apartment     24640\n",
       "Rented apartment        10898\n",
       "Office apartment         5636\n",
       "Co-op apartment          3655\n",
       "Name: name_housing_type, dtype: int64"
      ]
     },
     "execution_count": 120,
     "metadata": {},
     "output_type": "execute_result"
    }
   ],
   "source": [
    "df[\"name_housing_type\"].value_counts() # Categoric"
   ]
  },
  {
   "cell_type": "code",
   "execution_count": 121,
   "metadata": {},
   "outputs": [],
   "source": [
    "df.name_housing_type = labelEncoding(df, \"name_housing_type\")"
   ]
  },
  {
   "cell_type": "code",
   "execution_count": 122,
   "metadata": {},
   "outputs": [
    {
     "data": {
      "text/plain": [
       "1    697151\n",
       "5     35735\n",
       "2     24640\n",
       "4     10898\n",
       "3      5636\n",
       "0      3655\n",
       "Name: name_housing_type, dtype: int64"
      ]
     },
     "execution_count": 122,
     "metadata": {},
     "output_type": "execute_result"
    }
   ],
   "source": [
    "df.name_housing_type.value_counts()"
   ]
  },
  {
   "cell_type": "markdown",
   "metadata": {},
   "source": [
    "#### Status Column"
   ]
  },
  {
   "cell_type": "code",
   "execution_count": 123,
   "metadata": {},
   "outputs": [
    {
     "data": {
      "text/plain": [
       "C    329536\n",
       "0    290654\n",
       "X    145950\n",
       "1      8747\n",
       "5      1527\n",
       "2       801\n",
       "3       286\n",
       "4       214\n",
       "Name: status, dtype: int64"
      ]
     },
     "execution_count": 123,
     "metadata": {},
     "output_type": "execute_result"
    }
   ],
   "source": [
    "df.status.value_counts()"
   ]
  },
  {
   "cell_type": "markdown",
   "metadata": {},
   "source": [
    "C,X,0 -> 1 (1 includes users who took no loans that month paid within the month or 30 days past the due date)\n",
    "1,2,3,4,5 -> (0 includes users who pay within 30 to 149 days past the due date or have overdue debts for more than 150 days)\n",
    "* 1 includes users who took no loans that month paid within the month or 30 days past the due date while \n",
    "* 0 includes users who pay within 30 to 149 days past the due date or have overdue debts for more than 150 days"
   ]
  },
  {
   "cell_type": "code",
   "execution_count": 124,
   "metadata": {},
   "outputs": [],
   "source": [
    "df.status = [1 if (x == \"C\") or (x == \"X\") or (x == \"0\") else 0 for x in df.status]"
   ]
  },
  {
   "cell_type": "code",
   "execution_count": 125,
   "metadata": {},
   "outputs": [
    {
     "data": {
      "text/plain": [
       "1    766140\n",
       "0     11575\n",
       "Name: status, dtype: int64"
      ]
     },
     "execution_count": 125,
     "metadata": {},
     "output_type": "execute_result"
    }
   ],
   "source": [
    "df.status.value_counts()"
   ]
  },
  {
   "cell_type": "code",
   "execution_count": 126,
   "metadata": {},
   "outputs": [
    {
     "data": {
      "text/plain": [
       "['code_gender',\n",
       " 'flag_own_car',\n",
       " 'flag_own_realty',\n",
       " 'cnt_children',\n",
       " 'name_income_type',\n",
       " 'name_education_type',\n",
       " 'name_family_status',\n",
       " 'name_housing_type',\n",
       " 'flag_mobil',\n",
       " 'flag_work_phone',\n",
       " 'flag_phone',\n",
       " 'flag_email',\n",
       " 'cnt_fam_members',\n",
       " 'status']"
      ]
     },
     "execution_count": 126,
     "metadata": {},
     "output_type": "execute_result"
    }
   ],
   "source": [
    "categorical_features"
   ]
  },
  {
   "cell_type": "markdown",
   "metadata": {},
   "source": [
    "#### Other Binary Columns"
   ]
  },
  {
   "cell_type": "code",
   "execution_count": 127,
   "metadata": {},
   "outputs": [],
   "source": [
    "df_temp_binary = df[['code_gender',\n",
    " 'flag_own_car',\n",
    " 'flag_own_realty',\n",
    " 'flag_mobil',\n",
    " 'flag_work_phone',\n",
    " 'flag_phone',\n",
    " 'flag_email']]"
   ]
  },
  {
   "cell_type": "code",
   "execution_count": 128,
   "metadata": {},
   "outputs": [
    {
     "name": "stdout",
     "output_type": "stream",
     "text": [
      "code_gender\n",
      "2\n",
      "F    518851\n",
      "M    258864\n",
      "Name: code_gender, dtype: int64\n",
      "flag_own_car\n",
      "2\n",
      "N    473355\n",
      "Y    304360\n",
      "Name: flag_own_car, dtype: int64\n",
      "flag_own_realty\n",
      "2\n",
      "Y    512948\n",
      "N    264767\n",
      "Name: flag_own_realty, dtype: int64\n",
      "flag_mobil\n",
      "1\n",
      "1    777715\n",
      "Name: flag_mobil, dtype: int64\n",
      "flag_work_phone\n",
      "2\n",
      "0    597427\n",
      "1    180288\n",
      "Name: flag_work_phone, dtype: int64\n",
      "flag_phone\n",
      "2\n",
      "0    543650\n",
      "1    234065\n",
      "Name: flag_phone, dtype: int64\n",
      "flag_email\n",
      "2\n",
      "0    706418\n",
      "1     71297\n",
      "Name: flag_email, dtype: int64\n"
     ]
    }
   ],
   "source": [
    "for col in df_temp_binary.columns:\n",
    "    print(col)\n",
    "    print(df[col].nunique())\n",
    "    print(df[col].value_counts())"
   ]
  },
  {
   "cell_type": "markdown",
   "metadata": {},
   "source": [
    "There is not anyone who does not have a mobil. So we can drop this column."
   ]
  },
  {
   "cell_type": "code",
   "execution_count": 129,
   "metadata": {},
   "outputs": [],
   "source": [
    "df = df.drop(\"flag_mobil\", axis=1)"
   ]
  },
  {
   "cell_type": "code",
   "execution_count": 130,
   "metadata": {},
   "outputs": [],
   "source": [
    "df_temp_binary = df_temp_binary.drop(\"flag_mobil\", axis=1)"
   ]
  },
  {
   "cell_type": "markdown",
   "metadata": {},
   "source": [
    "Gender, flag_own_reality, flag_own_car columns are binary columns. However, we need to convert them to 0 and 1."
   ]
  },
  {
   "cell_type": "code",
   "execution_count": 131,
   "metadata": {},
   "outputs": [],
   "source": [
    "for col in df_temp_binary.columns:\n",
    "    df[col] = labelEncoding(df, col)"
   ]
  },
  {
   "cell_type": "code",
   "execution_count": 134,
   "metadata": {},
   "outputs": [
    {
     "data": {
      "text/html": [
       "<div>\n",
       "<style scoped>\n",
       "    .dataframe tbody tr th:only-of-type {\n",
       "        vertical-align: middle;\n",
       "    }\n",
       "\n",
       "    .dataframe tbody tr th {\n",
       "        vertical-align: top;\n",
       "    }\n",
       "\n",
       "    .dataframe thead th {\n",
       "        text-align: right;\n",
       "    }\n",
       "</style>\n",
       "<table border=\"1\" class=\"dataframe\">\n",
       "  <thead>\n",
       "    <tr style=\"text-align: right;\">\n",
       "      <th></th>\n",
       "      <th>id</th>\n",
       "      <th>code_gender</th>\n",
       "      <th>flag_own_car</th>\n",
       "      <th>flag_own_realty</th>\n",
       "      <th>cnt_children</th>\n",
       "      <th>amt_income_total</th>\n",
       "      <th>name_income_type</th>\n",
       "      <th>name_education_type</th>\n",
       "      <th>name_family_status</th>\n",
       "      <th>name_housing_type</th>\n",
       "      <th>age</th>\n",
       "      <th>years_employed</th>\n",
       "      <th>flag_work_phone</th>\n",
       "      <th>flag_phone</th>\n",
       "      <th>flag_email</th>\n",
       "      <th>occupation_type</th>\n",
       "      <th>cnt_fam_members</th>\n",
       "      <th>months_balance</th>\n",
       "      <th>status</th>\n",
       "    </tr>\n",
       "  </thead>\n",
       "  <tbody>\n",
       "    <tr>\n",
       "      <th>83207</th>\n",
       "      <td>5023755</td>\n",
       "      <td>0</td>\n",
       "      <td>1</td>\n",
       "      <td>1</td>\n",
       "      <td>0</td>\n",
       "      <td>135000.0</td>\n",
       "      <td>1</td>\n",
       "      <td>4</td>\n",
       "      <td>4</td>\n",
       "      <td>1</td>\n",
       "      <td>62.99</td>\n",
       "      <td>0.00</td>\n",
       "      <td>0</td>\n",
       "      <td>0</td>\n",
       "      <td>0</td>\n",
       "      <td>17</td>\n",
       "      <td>1.0</td>\n",
       "      <td>-37</td>\n",
       "      <td>1</td>\n",
       "    </tr>\n",
       "    <tr>\n",
       "      <th>616854</th>\n",
       "      <td>5116953</td>\n",
       "      <td>1</td>\n",
       "      <td>1</td>\n",
       "      <td>1</td>\n",
       "      <td>0</td>\n",
       "      <td>157500.0</td>\n",
       "      <td>0</td>\n",
       "      <td>1</td>\n",
       "      <td>1</td>\n",
       "      <td>1</td>\n",
       "      <td>44.06</td>\n",
       "      <td>4.93</td>\n",
       "      <td>0</td>\n",
       "      <td>0</td>\n",
       "      <td>0</td>\n",
       "      <td>4</td>\n",
       "      <td>2.0</td>\n",
       "      <td>-47</td>\n",
       "      <td>1</td>\n",
       "    </tr>\n",
       "    <tr>\n",
       "      <th>182015</th>\n",
       "      <td>5038637</td>\n",
       "      <td>0</td>\n",
       "      <td>0</td>\n",
       "      <td>1</td>\n",
       "      <td>0</td>\n",
       "      <td>135000.0</td>\n",
       "      <td>1</td>\n",
       "      <td>4</td>\n",
       "      <td>1</td>\n",
       "      <td>1</td>\n",
       "      <td>57.50</td>\n",
       "      <td>0.00</td>\n",
       "      <td>0</td>\n",
       "      <td>1</td>\n",
       "      <td>0</td>\n",
       "      <td>17</td>\n",
       "      <td>2.0</td>\n",
       "      <td>-54</td>\n",
       "      <td>1</td>\n",
       "    </tr>\n",
       "    <tr>\n",
       "      <th>3076</th>\n",
       "      <td>5009019</td>\n",
       "      <td>0</td>\n",
       "      <td>0</td>\n",
       "      <td>1</td>\n",
       "      <td>2</td>\n",
       "      <td>216000.0</td>\n",
       "      <td>2</td>\n",
       "      <td>1</td>\n",
       "      <td>1</td>\n",
       "      <td>1</td>\n",
       "      <td>42.31</td>\n",
       "      <td>8.53</td>\n",
       "      <td>0</td>\n",
       "      <td>0</td>\n",
       "      <td>1</td>\n",
       "      <td>17</td>\n",
       "      <td>4.0</td>\n",
       "      <td>-3</td>\n",
       "      <td>1</td>\n",
       "    </tr>\n",
       "    <tr>\n",
       "      <th>69976</th>\n",
       "      <td>5022952</td>\n",
       "      <td>1</td>\n",
       "      <td>1</td>\n",
       "      <td>1</td>\n",
       "      <td>0</td>\n",
       "      <td>112500.0</td>\n",
       "      <td>4</td>\n",
       "      <td>4</td>\n",
       "      <td>1</td>\n",
       "      <td>1</td>\n",
       "      <td>50.12</td>\n",
       "      <td>1.43</td>\n",
       "      <td>1</td>\n",
       "      <td>0</td>\n",
       "      <td>0</td>\n",
       "      <td>17</td>\n",
       "      <td>2.0</td>\n",
       "      <td>-26</td>\n",
       "      <td>1</td>\n",
       "    </tr>\n",
       "    <tr>\n",
       "      <th>676703</th>\n",
       "      <td>5135617</td>\n",
       "      <td>1</td>\n",
       "      <td>0</td>\n",
       "      <td>1</td>\n",
       "      <td>0</td>\n",
       "      <td>90000.0</td>\n",
       "      <td>4</td>\n",
       "      <td>4</td>\n",
       "      <td>3</td>\n",
       "      <td>1</td>\n",
       "      <td>41.64</td>\n",
       "      <td>1.30</td>\n",
       "      <td>0</td>\n",
       "      <td>0</td>\n",
       "      <td>0</td>\n",
       "      <td>9</td>\n",
       "      <td>1.0</td>\n",
       "      <td>-27</td>\n",
       "      <td>1</td>\n",
       "    </tr>\n",
       "    <tr>\n",
       "      <th>478426</th>\n",
       "      <td>5092343</td>\n",
       "      <td>0</td>\n",
       "      <td>0</td>\n",
       "      <td>1</td>\n",
       "      <td>0</td>\n",
       "      <td>225000.0</td>\n",
       "      <td>4</td>\n",
       "      <td>4</td>\n",
       "      <td>4</td>\n",
       "      <td>1</td>\n",
       "      <td>52.75</td>\n",
       "      <td>5.64</td>\n",
       "      <td>0</td>\n",
       "      <td>0</td>\n",
       "      <td>0</td>\n",
       "      <td>14</td>\n",
       "      <td>1.0</td>\n",
       "      <td>-1</td>\n",
       "      <td>1</td>\n",
       "    </tr>\n",
       "    <tr>\n",
       "      <th>598518</th>\n",
       "      <td>5115862</td>\n",
       "      <td>0</td>\n",
       "      <td>1</td>\n",
       "      <td>1</td>\n",
       "      <td>1</td>\n",
       "      <td>315000.0</td>\n",
       "      <td>4</td>\n",
       "      <td>4</td>\n",
       "      <td>1</td>\n",
       "      <td>1</td>\n",
       "      <td>42.48</td>\n",
       "      <td>16.71</td>\n",
       "      <td>0</td>\n",
       "      <td>0</td>\n",
       "      <td>0</td>\n",
       "      <td>8</td>\n",
       "      <td>3.0</td>\n",
       "      <td>-32</td>\n",
       "      <td>1</td>\n",
       "    </tr>\n",
       "    <tr>\n",
       "      <th>149529</th>\n",
       "      <td>5033873</td>\n",
       "      <td>1</td>\n",
       "      <td>1</td>\n",
       "      <td>1</td>\n",
       "      <td>1</td>\n",
       "      <td>157500.0</td>\n",
       "      <td>0</td>\n",
       "      <td>4</td>\n",
       "      <td>1</td>\n",
       "      <td>1</td>\n",
       "      <td>36.29</td>\n",
       "      <td>1.74</td>\n",
       "      <td>0</td>\n",
       "      <td>0</td>\n",
       "      <td>0</td>\n",
       "      <td>10</td>\n",
       "      <td>3.0</td>\n",
       "      <td>-25</td>\n",
       "      <td>1</td>\n",
       "    </tr>\n",
       "    <tr>\n",
       "      <th>573599</th>\n",
       "      <td>5113472</td>\n",
       "      <td>1</td>\n",
       "      <td>0</td>\n",
       "      <td>1</td>\n",
       "      <td>0</td>\n",
       "      <td>202500.0</td>\n",
       "      <td>4</td>\n",
       "      <td>4</td>\n",
       "      <td>1</td>\n",
       "      <td>1</td>\n",
       "      <td>52.60</td>\n",
       "      <td>0.95</td>\n",
       "      <td>0</td>\n",
       "      <td>1</td>\n",
       "      <td>0</td>\n",
       "      <td>6</td>\n",
       "      <td>2.0</td>\n",
       "      <td>-45</td>\n",
       "      <td>1</td>\n",
       "    </tr>\n",
       "  </tbody>\n",
       "</table>\n",
       "</div>"
      ],
      "text/plain": [
       "             id  code_gender  flag_own_car  flag_own_realty  cnt_children  \\\n",
       "83207   5023755            0             1                1             0   \n",
       "616854  5116953            1             1                1             0   \n",
       "182015  5038637            0             0                1             0   \n",
       "3076    5009019            0             0                1             2   \n",
       "69976   5022952            1             1                1             0   \n",
       "676703  5135617            1             0                1             0   \n",
       "478426  5092343            0             0                1             0   \n",
       "598518  5115862            0             1                1             1   \n",
       "149529  5033873            1             1                1             1   \n",
       "573599  5113472            1             0                1             0   \n",
       "\n",
       "        amt_income_total  name_income_type  name_education_type  \\\n",
       "83207           135000.0                 1                    4   \n",
       "616854          157500.0                 0                    1   \n",
       "182015          135000.0                 1                    4   \n",
       "3076            216000.0                 2                    1   \n",
       "69976           112500.0                 4                    4   \n",
       "676703           90000.0                 4                    4   \n",
       "478426          225000.0                 4                    4   \n",
       "598518          315000.0                 4                    4   \n",
       "149529          157500.0                 0                    4   \n",
       "573599          202500.0                 4                    4   \n",
       "\n",
       "        name_family_status  name_housing_type    age  years_employed  \\\n",
       "83207                    4                  1  62.99            0.00   \n",
       "616854                   1                  1  44.06            4.93   \n",
       "182015                   1                  1  57.50            0.00   \n",
       "3076                     1                  1  42.31            8.53   \n",
       "69976                    1                  1  50.12            1.43   \n",
       "676703                   3                  1  41.64            1.30   \n",
       "478426                   4                  1  52.75            5.64   \n",
       "598518                   1                  1  42.48           16.71   \n",
       "149529                   1                  1  36.29            1.74   \n",
       "573599                   1                  1  52.60            0.95   \n",
       "\n",
       "        flag_work_phone  flag_phone  flag_email  occupation_type  \\\n",
       "83207                 0           0           0               17   \n",
       "616854                0           0           0                4   \n",
       "182015                0           1           0               17   \n",
       "3076                  0           0           1               17   \n",
       "69976                 1           0           0               17   \n",
       "676703                0           0           0                9   \n",
       "478426                0           0           0               14   \n",
       "598518                0           0           0                8   \n",
       "149529                0           0           0               10   \n",
       "573599                0           1           0                6   \n",
       "\n",
       "        cnt_fam_members  months_balance  status  \n",
       "83207               1.0             -37       1  \n",
       "616854              2.0             -47       1  \n",
       "182015              2.0             -54       1  \n",
       "3076                4.0              -3       1  \n",
       "69976               2.0             -26       1  \n",
       "676703              1.0             -27       1  \n",
       "478426              1.0              -1       1  \n",
       "598518              3.0             -32       1  \n",
       "149529              3.0             -25       1  \n",
       "573599              2.0             -45       1  "
      ]
     },
     "execution_count": 134,
     "metadata": {},
     "output_type": "execute_result"
    }
   ],
   "source": [
    "df.sample(10)"
   ]
  },
  {
   "cell_type": "markdown",
   "metadata": {},
   "source": [
    "We did not label the cnt_children and cnt_fam_members columns because they are already numeric features. They have less unique values than the threshold value. However these columns are not actually categoric features."
   ]
  },
  {
   "cell_type": "markdown",
   "metadata": {},
   "source": [
    "## Feature Extraction and Engineering"
   ]
  },
  {
   "cell_type": "code",
   "execution_count": null,
   "metadata": {},
   "outputs": [],
   "source": []
  }
 ],
 "metadata": {
  "kernelspec": {
   "display_name": "base",
   "language": "python",
   "name": "python3"
  },
  "language_info": {
   "codemirror_mode": {
    "name": "ipython",
    "version": 3
   },
   "file_extension": ".py",
   "mimetype": "text/x-python",
   "name": "python",
   "nbconvert_exporter": "python",
   "pygments_lexer": "ipython3",
   "version": "3.9.13"
  }
 },
 "nbformat": 4,
 "nbformat_minor": 2
}
