{
 "cells": [
  {
   "cell_type": "markdown",
   "metadata": {},
   "source": [
    "# YZV311E Data Mining Project Model Development and Evaluation"
   ]
  },
  {
   "cell_type": "markdown",
   "metadata": {},
   "source": [
    "## Name : Yusuf Faruk Güldemir\n",
    "## Student ID : 150210302\n",
    "\n",
    "## Name : Hasan Taha Bağcı\n",
    "## Student ID : 150210338"
   ]
  },
  {
   "cell_type": "markdown",
   "metadata": {},
   "source": [
    "## -------------------------------"
   ]
  },
  {
   "cell_type": "markdown",
   "metadata": {},
   "source": [
    "## Importing Libraries"
   ]
  },
  {
   "cell_type": "code",
   "execution_count": 1,
   "metadata": {},
   "outputs": [],
   "source": [
    "import pandas as pd\n",
    "import numpy as np\n",
    "import matplotlib.pyplot as plt\n",
    "import seaborn as sns\n",
    "\n",
    "from sklearn.model_selection import train_test_split\n",
    "from sklearn.tree import DecisionTreeClassifier\n",
    "from sklearn.ensemble import RandomForestClassifier, AdaBoostClassifier\n",
    "from sklearn.linear_model import LogisticRegression\n",
    "from xgboost import XGBClassifier\n",
    "from sklearn.metrics import confusion_matrix, accuracy_score, classification_report, roc_auc_score, roc_curve, auc\n",
    "\n",
    "\n",
    "from utils.datapreprocess import *\n",
    "from utils.model import *\n",
    "from utils.plotdata import *\n",
    "\n",
    "import warnings\n",
    "warnings.filterwarnings('ignore')"
   ]
  },
  {
   "cell_type": "code",
   "execution_count": 2,
   "metadata": {},
   "outputs": [],
   "source": [
    "df_train = pd.read_csv('data/processed_data.csv')"
   ]
  },
  {
   "cell_type": "code",
   "execution_count": 3,
   "metadata": {},
   "outputs": [
    {
     "data": {
      "text/plain": [
       "id                        0\n",
       "code_gender               0\n",
       "flag_own_car              0\n",
       "flag_own_realty           0\n",
       "cnt_children              0\n",
       "amt_income_total          0\n",
       "name_income_type          0\n",
       "name_education_type       0\n",
       "name_family_status        0\n",
       "name_housing_type         0\n",
       "age                       0\n",
       "years_employed            0\n",
       "flag_work_phone           0\n",
       "flag_phone                0\n",
       "flag_email                0\n",
       "occupation_type           0\n",
       "cnt_fam_members           0\n",
       "months_balance            0\n",
       "status                    0\n",
       "employment_age_ratio      0\n",
       "family_size_normalized    0\n",
       "dtype: int64"
      ]
     },
     "execution_count": 3,
     "metadata": {},
     "output_type": "execute_result"
    }
   ],
   "source": [
    "df_train.isna().sum()"
   ]
  },
  {
   "cell_type": "markdown",
   "metadata": {},
   "source": [
    "## Train-Test Split"
   ]
  },
  {
   "cell_type": "code",
   "execution_count": 4,
   "metadata": {},
   "outputs": [],
   "source": [
    "X = df_train.drop('status', axis=1)\n",
    "y = df_train['status']\n",
    "\n",
    "X_wo_month_bal = X.drop(['months_balance'], axis=1)"
   ]
  },
  {
   "cell_type": "markdown",
   "metadata": {},
   "source": [
    "- #### Apply SMOTE (Synthetic Minority Oversampling Technique) to balance the data"
   ]
  },
  {
   "cell_type": "code",
   "execution_count": 5,
   "metadata": {},
   "outputs": [
    {
     "name": "stdout",
     "output_type": "stream",
     "text": [
      "Before SMOTE shape:  (777715, 20) (777715,)\n",
      "After SMOTE shape:  (1532280, 20) (1532280,)\n"
     ]
    }
   ],
   "source": [
    "smoted_X, smoted_y = smote(X, y)"
   ]
  },
  {
   "cell_type": "code",
   "execution_count": 6,
   "metadata": {},
   "outputs": [],
   "source": [
    "X_train, X_test, y_train, y_test = train_test_split(X, y, test_size=0.2, random_state=101)\n",
    "X_train_sm, X_test_sm, y_train_sm, y_test_sm = train_test_split(smoted_X, smoted_y, test_size=0.2, random_state=101)\n",
    "X_train_wo_month_bal, X_test_wo_month_bal, y_train_wo_month_bal, y_test_wo_month_bal = train_test_split(X_wo_month_bal, y, test_size=0.2, random_state=101)"
   ]
  },
  {
   "cell_type": "markdown",
   "metadata": {},
   "source": [
    "## Random Forest Classifier"
   ]
  },
  {
   "cell_type": "markdown",
   "metadata": {},
   "source": [
    "- Training"
   ]
  },
  {
   "cell_type": "code",
   "execution_count": 7,
   "metadata": {},
   "outputs": [],
   "source": [
    "rf = randomForest(X_train, y_train, n_estimators=100, max_depth=10, max_features='auto', min_samples_split=2, min_samples_leaf=1, bootstrap=True)\n",
    "rf_sm = randomForest(X_train_sm, y_train_sm, n_estimators=100, max_depth=10, max_features='auto', min_samples_split=2, min_samples_leaf=1, bootstrap=True)\n",
    "rf_wo_month_bal = randomForest(X_train_wo_month_bal, y_train_wo_month_bal, n_estimators=100, max_depth=10, max_features='auto', min_samples_split=2, min_samples_leaf=1, bootstrap=True)"
   ]
  },
  {
   "cell_type": "markdown",
   "metadata": {},
   "source": [
    "- Testing"
   ]
  },
  {
   "cell_type": "code",
   "execution_count": 8,
   "metadata": {},
   "outputs": [
    {
     "name": "stdout",
     "output_type": "stream",
     "text": [
      "Prediction on test data without SMOTE:  0.9856695576142932\n",
      "Prediction on test data with SMOTE:  0.8485361683243271\n",
      "Prediction on test data without month_balance column:  0.9854573976328089\n"
     ]
    }
   ],
   "source": [
    "rf_pred = rf.predict(X_test)\n",
    "rf_pred_sm = rf_sm.predict(X_test_sm)\n",
    "rf_pred_wo_month_bal = rf_wo_month_bal.predict(X_test_wo_month_bal)\n",
    "\n",
    "print(\"Prediction on test data without SMOTE: \", accuracy_score(y_test, rf_pred))\n",
    "print(\"Prediction on test data with SMOTE: \", accuracy_score(y_test_sm, rf_pred_sm))\n",
    "print(\"Prediction on test data without month_balance column: \", accuracy_score(y_test_wo_month_bal, rf_pred_wo_month_bal))"
   ]
  },
  {
   "cell_type": "markdown",
   "metadata": {},
   "source": [
    "- Print Metrics"
   ]
  },
  {
   "cell_type": "code",
   "execution_count": null,
   "metadata": {},
   "outputs": [],
   "source": [
    "print(\"Metrics on test data without SMOTE: \\n\")\n",
    "printmetrics(y_test, rf_pred)\n",
    "print(\"Metrics on test data with SMOTE: \\n\")\n",
    "printmetrics(y_test_sm, rf_pred_sm)\n",
    "print(\"Metrics on test data without month_balance column: \\n\")\n",
    "printmetrics(y_test_wo_month_bal, rf_pred_wo_month_bal)"
   ]
  },
  {
   "cell_type": "markdown",
   "metadata": {},
   "source": [
    "- Confusion Matrix"
   ]
  },
  {
   "cell_type": "code",
   "execution_count": null,
   "metadata": {},
   "outputs": [],
   "source": [
    "print(\"Confusion Matrix: \\n\")\n",
    "confusionmatrix(y_test, rf_pred)\n",
    "print(\"Confusion Matrix with SMOTE Model: \\n\")\n",
    "confusionmatrix(y_test_sm, rf_pred_sm)\n",
    "print(\"Confusion Matrix without month_balance column: \\n\")\n",
    "confusionmatrix(y_test_wo_month_bal, rf_pred_wo_month_bal)"
   ]
  },
  {
   "cell_type": "markdown",
   "metadata": {},
   "source": [
    "- Feature Importance"
   ]
  },
  {
   "cell_type": "code",
   "execution_count": null,
   "metadata": {},
   "outputs": [],
   "source": [
    "print(\"Feature Importance: \\n\")\n",
    "plotfeatureimportance(rf, X_train)\n",
    "print(\"Feature Importance with SMOTE Model: \\n\")\n",
    "plotfeatureimportance(rf_sm, X_train_sm)\n",
    "print(\"Feature Importance without month_balance column: \\n\")\n",
    "plotfeatureimportance(rf_wo_month_bal, X_train_wo_month_bal)"
   ]
  },
  {
   "cell_type": "markdown",
   "metadata": {},
   "source": [
    "- PR Curve"
   ]
  },
  {
   "cell_type": "code",
   "execution_count": null,
   "metadata": {},
   "outputs": [],
   "source": [
    "print(\"PR Curve: \\n\")\n",
    "plotpr(y_test, rf_pred)\n",
    "print(\"PR Curve with SMOTE Model: \\n\")\n",
    "plotpr(y_test_sm, rf_pred_sm)\n",
    "print(\"PR Curve without month_balance column: \\n\")\n",
    "plotpr(y_test_wo_month_bal, rf_pred_wo_month_bal)"
   ]
  },
  {
   "cell_type": "markdown",
   "metadata": {},
   "source": [
    "- ROC Curve"
   ]
  },
  {
   "cell_type": "code",
   "execution_count": null,
   "metadata": {},
   "outputs": [],
   "source": [
    "print(\"ROC Curve: \\n\")\n",
    "plotroc(y_test, rf_pred)\n",
    "print(\"ROC Curve with SMOTE Model: \\n\")\n",
    "plotroc(y_test_sm, rf_pred_sm)\n",
    "print(\"ROC Curve without month_balance column: \\n\")\n",
    "plotroc(y_test_wo_month_bal, rf_pred_wo_month_bal)"
   ]
  },
  {
   "cell_type": "markdown",
   "metadata": {},
   "source": [
    "- Learning Curve"
   ]
  },
  {
   "cell_type": "code",
   "execution_count": null,
   "metadata": {},
   "outputs": [],
   "source": [
    "print(\"Learning Curve: \\n\")\n",
    "plotlearningcurve(rf, X_train, y_train)\n",
    "print(\"Learning Curve with SMOTE Model: \\n\")\n",
    "plotlearningcurve(rf_sm, X_train_sm, y_train_sm)\n",
    "print(\"Learning Curve without month_balance column: \\n\")\n",
    "plotlearningcurve(rf_wo_month_bal, X_train_wo_month_bal, y_train_wo_month_bal)"
   ]
  },
  {
   "cell_type": "markdown",
   "metadata": {},
   "source": [
    "- Validation Curve"
   ]
  },
  {
   "cell_type": "code",
   "execution_count": null,
   "metadata": {},
   "outputs": [],
   "source": [
    "print(\"Validation Curve: \\n\")\n",
    "plotValidationCurve(rf, X_train, y_train, 'max_depth', np.arange(1, 20, 2))\n",
    "print(\"Validation Curve with SMOTE Model: \\n\")\n",
    "plotValidationCurve(rf_sm, X_train_sm, y_train_sm, 'max_depth', np.arange(1, 20, 2))\n",
    "print(\"Validation Curve without month_balance column: \\n\")\n",
    "plotValidationCurve(rf_wo_month_bal, X_train_wo_month_bal, y_train_wo_month_bal, 'max_depth', np.arange(1, 20, 2))"
   ]
  },
  {
   "cell_type": "markdown",
   "metadata": {},
   "source": [
    "## Decision Tree"
   ]
  },
  {
   "cell_type": "markdown",
   "metadata": {},
   "source": [
    "- Training"
   ]
  },
  {
   "cell_type": "code",
   "execution_count": 9,
   "metadata": {},
   "outputs": [],
   "source": [
    "dt = decisionTree(X_train, y_train, max_depth=10, max_features='auto', min_samples_split=2, min_samples_leaf=1)\n",
    "dt_sm = decisionTree(X_train_sm, y_train_sm, max_depth=10, max_features='auto', min_samples_split=2, min_samples_leaf=1)\n",
    "dt_wo_month_bal = decisionTree(X_train_wo_month_bal, y_train_wo_month_bal, max_depth=10, max_features='auto', min_samples_split=2, min_samples_leaf=1)"
   ]
  },
  {
   "cell_type": "markdown",
   "metadata": {},
   "source": [
    "- Testing"
   ]
  },
  {
   "cell_type": "code",
   "execution_count": 10,
   "metadata": {},
   "outputs": [
    {
     "name": "stdout",
     "output_type": "stream",
     "text": [
      "Prediction on test data without SMOTE:  0.985579550349421\n",
      "Prediction on test data with SMOTE:  0.6866532226486021\n",
      "Prediction on test data without month_balance column:  0.9856116958011611\n"
     ]
    }
   ],
   "source": [
    "dt_pred = dt.predict(X_test)\n",
    "dt_pred_sm = dt_sm.predict(X_test_sm)\n",
    "dt_pred_wo_month_bal = dt_wo_month_bal.predict(X_test_wo_month_bal)\n",
    "\n",
    "print(\"Prediction on test data without SMOTE: \", accuracy_score(y_test, dt_pred))\n",
    "print(\"Prediction on test data with SMOTE: \", accuracy_score(y_test_sm, dt_pred_sm))\n",
    "print(\"Prediction on test data without month_balance column: \", accuracy_score(y_test_wo_month_bal, dt_pred_wo_month_bal))"
   ]
  },
  {
   "cell_type": "markdown",
   "metadata": {},
   "source": [
    "- Print Metrics"
   ]
  },
  {
   "cell_type": "code",
   "execution_count": null,
   "metadata": {},
   "outputs": [],
   "source": [
    "print(\"Metrics on test data without SMOTE: \\n\")\n",
    "printmetrics(y_test, dt_pred)\n",
    "print(\"Metrics on test data with SMOTE: \\n\")\n",
    "printmetrics(y_test_sm, dt_pred_sm)\n",
    "print(\"Metrics on test data without month_balance column: \\n\")\n",
    "printmetrics(y_test_wo_month_bal, dt_pred_wo_month_bal)"
   ]
  },
  {
   "cell_type": "markdown",
   "metadata": {},
   "source": [
    "- Confusion Matrix"
   ]
  },
  {
   "cell_type": "code",
   "execution_count": null,
   "metadata": {},
   "outputs": [],
   "source": [
    "print(\"Confusion Matrix: \\n\")\n",
    "confusionmatrix(y_test, dt_pred)\n",
    "print(\"Confusion Matrix with SMOTE Model: \\n\")\n",
    "confusionmatrix(y_test_sm, dt_pred_sm)\n",
    "print(\"Confusion Matrix without month_balance column: \\n\")\n",
    "confusionmatrix(y_test_wo_month_bal, dt_pred_wo_month_bal)"
   ]
  },
  {
   "cell_type": "markdown",
   "metadata": {},
   "source": [
    "- Feature Importance"
   ]
  },
  {
   "cell_type": "code",
   "execution_count": null,
   "metadata": {},
   "outputs": [],
   "source": [
    "print(\"Feature Importance: \\n\")\n",
    "plotfeatureimportance(dt, X_train)\n",
    "print(\"Feature Importance with SMOTE Model: \\n\")\n",
    "plotfeatureimportance(dt_sm, X_train_sm)\n",
    "print(\"Feature Importance without month_balance column: \\n\")\n",
    "plotfeatureimportance(dt_wo_month_bal, X_train_wo_month_bal)"
   ]
  },
  {
   "cell_type": "markdown",
   "metadata": {},
   "source": [
    "- PR Curve"
   ]
  },
  {
   "cell_type": "code",
   "execution_count": null,
   "metadata": {},
   "outputs": [],
   "source": [
    "print(\"PR Curve: \\n\")\n",
    "plotpr(y_test, dt_pred)\n",
    "print(\"PR Curve with SMOTE Model: \\n\")\n",
    "plotpr(y_test_sm, dt_pred_sm)\n",
    "print(\"PR Curve without month_balance column: \\n\")\n",
    "plotpr(y_test_wo_month_bal, dt_pred_wo_month_bal)"
   ]
  },
  {
   "cell_type": "markdown",
   "metadata": {},
   "source": [
    "- ROC Curve"
   ]
  },
  {
   "cell_type": "code",
   "execution_count": null,
   "metadata": {},
   "outputs": [],
   "source": [
    "print(\"ROC Curve: \\n\")\n",
    "plotroc(y_test, dt_pred)\n",
    "print(\"ROC Curve with SMOTE Model: \\n\")\n",
    "plotroc(y_test_sm, dt_pred_sm)\n",
    "print(\"ROC Curve without month_balance column: \\n\")\n",
    "plotroc(y_test_wo_month_bal, dt_pred_wo_month_bal)"
   ]
  },
  {
   "cell_type": "markdown",
   "metadata": {},
   "source": [
    "- Learning Curve"
   ]
  },
  {
   "cell_type": "code",
   "execution_count": null,
   "metadata": {},
   "outputs": [],
   "source": [
    "print(\"Learning Curve: \\n\")\n",
    "plotlearningcurve(dt, X_train, y_train)\n",
    "print(\"Learning Curve with SMOTE Model: \\n\")\n",
    "plotlearningcurve(dt_sm, X_train_sm, y_train_sm)\n",
    "print(\"Learning Curve without month_balance column: \\n\")\n",
    "plotlearningcurve(dt_wo_month_bal, X_train_wo_month_bal, y_train_wo_month_bal)"
   ]
  },
  {
   "cell_type": "markdown",
   "metadata": {},
   "source": [
    "- Validation Curve"
   ]
  },
  {
   "cell_type": "code",
   "execution_count": null,
   "metadata": {},
   "outputs": [],
   "source": [
    "print(\"Validation Curve: \\n\")\n",
    "plotValidationCurve(dt, X_train, y_train, 'max_depth', np.arange(1, 20, 2))\n",
    "print(\"Validation Curve with SMOTE Model: \\n\")\n",
    "plotValidationCurve(dt_sm, X_train_sm, y_train_sm, 'max_depth', np.arange(1, 20, 2))\n",
    "print(\"Validation Curve without month_balance column: \\n\")\n",
    "plotValidationCurve(dt_wo_month_bal, X_train_wo_month_bal, y_train_wo_month_bal, 'max_depth', np.arange(1, 20, 2))"
   ]
  },
  {
   "cell_type": "markdown",
   "metadata": {},
   "source": [
    "## XGBoost"
   ]
  },
  {
   "cell_type": "code",
   "execution_count": 12,
   "metadata": {},
   "outputs": [],
   "source": [
    "xgb = xgboost(X_train, y_train, max_depth=10, learning_rate=0.1, n_estimators=100, objective='binary:logistic', booster='gbtree', n_jobs=1)\n",
    "xgb_sm = xgboost(X_train_sm, y_train_sm, max_depth=10, learning_rate=0.1, n_estimators=100, objective='binary:logistic', booster='gbtree', n_jobs=1)\n",
    "xgb_wo_month_bal = xgboost(X_train_wo_month_bal, y_train_wo_month_bal, max_depth=10, learning_rate=0.1, n_estimators=100, objective='binary:logistic', booster='gbtree', n_jobs=1)"
   ]
  },
  {
   "cell_type": "code",
   "execution_count": 13,
   "metadata": {},
   "outputs": [
    {
     "name": "stdout",
     "output_type": "stream",
     "text": [
      "Prediction on test data without SMOTE:  0.9862031721131778\n",
      "Prediction on test data with SMOTE:  0.9233690970318741\n",
      "Prediction on test data without month_balance column:  0.9857788521502092\n"
     ]
    }
   ],
   "source": [
    "xgb_pred = xgb.predict(X_test)\n",
    "xgb_pred_sm = xgb_sm.predict(X_test_sm)\n",
    "xgb_pred_wo_month_bal = xgb_wo_month_bal.predict(X_test_wo_month_bal)\n",
    "\n",
    "print(\"Prediction on test data without SMOTE: \", accuracy_score(y_test, xgb_pred))\n",
    "print(\"Prediction on test data with SMOTE: \", accuracy_score(y_test_sm, xgb_pred_sm))\n",
    "print(\"Prediction on test data without month_balance column: \", accuracy_score(y_test_wo_month_bal, xgb_pred_wo_month_bal))"
   ]
  },
  {
   "cell_type": "markdown",
   "metadata": {},
   "source": [
    "- Print Metrics"
   ]
  },
  {
   "cell_type": "code",
   "execution_count": null,
   "metadata": {},
   "outputs": [],
   "source": [
    "print(\"Metrics on test data without SMOTE: \\n\")\n",
    "printmetrics(y_test, xgb_pred)\n",
    "print(\"Metrics on test data with SMOTE: \\n\")\n",
    "printmetrics(y_test_sm, xgb_pred_sm)\n",
    "print(\"Metrics on test data without month_balance column: \\n\")\n",
    "printmetrics(y_test_wo_month_bal, xgb_pred_wo_month_bal)"
   ]
  },
  {
   "cell_type": "markdown",
   "metadata": {},
   "source": [
    "- Confusion Matrix"
   ]
  },
  {
   "cell_type": "code",
   "execution_count": null,
   "metadata": {},
   "outputs": [],
   "source": [
    "print(\"Confusion Matrix: \\n\")\n",
    "confusionmatrix(y_test, xgb_pred)\n",
    "print(\"Confusion Matrix with SMOTE Model: \\n\")\n",
    "confusionmatrix(y_test_sm, xgb_pred_sm)\n",
    "print(\"Confusion Matrix without month_balance column: \\n\")\n",
    "confusionmatrix(y_test_wo_month_bal, xgb_pred_wo_month_bal)"
   ]
  },
  {
   "cell_type": "markdown",
   "metadata": {},
   "source": [
    "- Feature Importance"
   ]
  },
  {
   "cell_type": "code",
   "execution_count": null,
   "metadata": {},
   "outputs": [],
   "source": [
    "print(\"Feature Importance: \\n\")\n",
    "plotfeatureimportance(xgb, X_train)\n",
    "print(\"Feature Importance with SMOTE Model: \\n\")\n",
    "plotfeatureimportance(xgb_sm, X_train_sm)\n",
    "print(\"Feature Importance without month_balance column: \\n\")\n",
    "plotfeatureimportance(xgb_wo_month_bal, X_train_wo_month_bal)"
   ]
  },
  {
   "cell_type": "markdown",
   "metadata": {},
   "source": [
    "- PR Curve"
   ]
  },
  {
   "cell_type": "code",
   "execution_count": null,
   "metadata": {},
   "outputs": [],
   "source": [
    "print(\"PR Curve: \\n\")\n",
    "plotpr(y_test, xgb_pred)\n",
    "print(\"PR Curve with SMOTE Model: \\n\")\n",
    "plotpr(y_test_sm, xgb_pred_sm)\n",
    "print(\"PR Curve without month_balance column: \\n\")\n",
    "plotpr(y_test_wo_month_bal, xgb_pred_wo_month_bal)"
   ]
  },
  {
   "cell_type": "markdown",
   "metadata": {},
   "source": [
    "- ROC Curve"
   ]
  },
  {
   "cell_type": "code",
   "execution_count": null,
   "metadata": {},
   "outputs": [],
   "source": [
    "print(\"ROC Curve: \\n\")\n",
    "plotroc(y_test, xgb_pred)\n",
    "print(\"ROC Curve with SMOTE Model: \\n\")\n",
    "plotroc(y_test_sm, xgb_pred_sm)\n",
    "print(\"ROC Curve without month_balance column: \\n\")\n",
    "plotroc(y_test_wo_month_bal, xgb_pred_wo_month_bal)"
   ]
  },
  {
   "cell_type": "markdown",
   "metadata": {},
   "source": [
    "- Learning Curve"
   ]
  },
  {
   "cell_type": "code",
   "execution_count": null,
   "metadata": {},
   "outputs": [],
   "source": [
    "print(\"Learning Curve: \\n\")\n",
    "plotlearningcurve(xgb, X_train, y_train)\n",
    "print(\"Learning Curve with SMOTE Model: \\n\")\n",
    "plotlearningcurve(xgb_sm, X_train_sm, y_train_sm)\n",
    "print(\"Learning Curve without month_balance column: \\n\")\n",
    "plotlearningcurve(xgb_wo_month_bal, X_train_wo_month_bal, y_train_wo_month_bal)"
   ]
  },
  {
   "cell_type": "markdown",
   "metadata": {},
   "source": [
    "- Validation Curve"
   ]
  },
  {
   "cell_type": "code",
   "execution_count": null,
   "metadata": {},
   "outputs": [],
   "source": [
    "print(\"Validation Curve: \\n\")\n",
    "plotValidationCurve(xgb, X_train, y_train, 'max_depth', np.arange(1, 20, 2))\n",
    "print(\"Validation Curve with SMOTE Model: \\n\")\n",
    "plotValidationCurve(xgb_sm, X_train_sm, y_train_sm, 'max_depth', np.arange(1, 20, 2))\n",
    "print(\"Validation Curve without month_balance column: \\n\")\n",
    "plotValidationCurve(xgb_wo_month_bal, X_train_wo_month_bal, y_train_wo_month_bal, 'max_depth', np.arange(1, 20, 2))"
   ]
  },
  {
   "cell_type": "markdown",
   "metadata": {},
   "source": [
    "## AdaBoost"
   ]
  },
  {
   "cell_type": "code",
   "execution_count": 14,
   "metadata": {},
   "outputs": [],
   "source": [
    "ada = adaBoost(X_train, y_train, n_estimators=100, learning_rate=1.0, algorithm='SAMME.R')\n",
    "ada_sm = adaBoost(X_train_sm, y_train_sm, n_estimators=100, learning_rate=1.0, algorithm='SAMME.R')\n",
    "ada_wo_month_bal = adaBoost(X_train_wo_month_bal, y_train_wo_month_bal, n_estimators=100, learning_rate=1.0, algorithm='SAMME.R')"
   ]
  },
  {
   "cell_type": "code",
   "execution_count": 15,
   "metadata": {},
   "outputs": [
    {
     "name": "stdout",
     "output_type": "stream",
     "text": [
      "Prediction on test data without SMOTE:  0.9854573976328089\n",
      "Prediction on test data with SMOTE:  0.6446798235309473\n",
      "Prediction on test data without month_balance column:  0.9854573976328089\n"
     ]
    }
   ],
   "source": [
    "ada_pred = ada.predict(X_test)\n",
    "ada_pred_sm = ada_sm.predict(X_test_sm)\n",
    "ada_pred_wo_month_bal = ada_wo_month_bal.predict(X_test_wo_month_bal)\n",
    "\n",
    "print(\"Prediction on test data without SMOTE: \", accuracy_score(y_test, ada_pred))\n",
    "print(\"Prediction on test data with SMOTE: \", accuracy_score(y_test_sm, ada_pred_sm))\n",
    "print(\"Prediction on test data without month_balance column: \", accuracy_score(y_test_wo_month_bal, ada_pred_wo_month_bal))"
   ]
  },
  {
   "cell_type": "markdown",
   "metadata": {},
   "source": [
    "- Print Metrics"
   ]
  },
  {
   "cell_type": "code",
   "execution_count": null,
   "metadata": {},
   "outputs": [],
   "source": [
    "print(\"Metrics on test data without SMOTE: \\n\")\n",
    "printmetrics(y_test, ada_pred)\n",
    "print(\"Metrics on test data with SMOTE: \\n\")\n",
    "printmetrics(y_test_sm, ada_pred_sm)\n",
    "print(\"Metrics on test data without month_balance column: \\n\")\n",
    "printmetrics(y_test_wo_month_bal, ada_pred_wo_month_bal)"
   ]
  },
  {
   "cell_type": "markdown",
   "metadata": {},
   "source": [
    "- Confusion Matrix"
   ]
  },
  {
   "cell_type": "code",
   "execution_count": null,
   "metadata": {},
   "outputs": [],
   "source": [
    "print(\"Confusion Matrix: \\n\")\n",
    "confusionmatrix(y_test, ada_pred)\n",
    "print(\"Confusion Matrix with SMOTE Model: \\n\")\n",
    "confusionmatrix(y_test_sm, ada_pred_sm)\n",
    "print(\"Confusion Matrix without month_balance column: \\n\")\n",
    "confusionmatrix(y_test_wo_month_bal, ada_pred_wo_month_bal)"
   ]
  },
  {
   "cell_type": "markdown",
   "metadata": {},
   "source": [
    "- Feature Importance"
   ]
  },
  {
   "cell_type": "code",
   "execution_count": null,
   "metadata": {},
   "outputs": [],
   "source": [
    "print(\"Feature Importance: \\n\")\n",
    "plotfeatureimportance(ada, X_train)\n",
    "print(\"Feature Importance with SMOTE Model: \\n\")\n",
    "plotfeatureimportance(ada_sm, X_train_sm)\n",
    "print(\"Feature Importance without month_balance column: \\n\")\n",
    "plotfeatureimportance(ada_wo_month_bal, X_train_wo_month_bal)"
   ]
  },
  {
   "cell_type": "markdown",
   "metadata": {},
   "source": [
    "- PR Curve"
   ]
  },
  {
   "cell_type": "code",
   "execution_count": null,
   "metadata": {},
   "outputs": [],
   "source": [
    "print(\"PR Curve: \\n\")\n",
    "plotpr(y_test, ada_pred)\n",
    "print(\"PR Curve with SMOTE Model: \\n\")\n",
    "plotpr(y_test_sm, ada_pred_sm)\n",
    "print(\"PR Curve without month_balance column: \\n\")\n",
    "plotpr(y_test_wo_month_bal, ada_pred_wo_month_bal)"
   ]
  },
  {
   "cell_type": "markdown",
   "metadata": {},
   "source": [
    "- ROC Curve"
   ]
  },
  {
   "cell_type": "code",
   "execution_count": null,
   "metadata": {},
   "outputs": [],
   "source": [
    "print(\"ROC Curve: \\n\")\n",
    "plotroc(y_test, ada_pred)\n",
    "print(\"ROC Curve with SMOTE Model: \\n\")\n",
    "plotroc(y_test_sm, ada_pred_sm)\n",
    "print(\"ROC Curve without month_balance column: \\n\")\n",
    "plotroc(y_test_wo_month_bal, ada_pred_wo_month_bal)"
   ]
  },
  {
   "cell_type": "markdown",
   "metadata": {},
   "source": [
    "- Learning Curve"
   ]
  },
  {
   "cell_type": "code",
   "execution_count": null,
   "metadata": {},
   "outputs": [],
   "source": [
    "print(\"Learning Curve: \\n\")\n",
    "plotlearningcurve(ada, X_train, y_train)\n",
    "print(\"Learning Curve with SMOTE Model: \\n\")\n",
    "plotlearningcurve(ada_sm, X_train_sm, y_train_sm)\n",
    "print(\"Learning Curve without month_balance column: \\n\")\n",
    "plotlearningcurve(ada_wo_month_bal, X_train_wo_month_bal, y_train_wo_month_bal)"
   ]
  },
  {
   "cell_type": "markdown",
   "metadata": {},
   "source": [
    "- Validation Curve"
   ]
  },
  {
   "cell_type": "code",
   "execution_count": null,
   "metadata": {},
   "outputs": [],
   "source": [
    "print(\"Validation Curve: \\n\")\n",
    "plotValidationCurve(ada, X_train, y_train, 'max_depth', np.arange(1, 20, 2))\n",
    "print(\"Validation Curve with SMOTE Model: \\n\")\n",
    "plotValidationCurve(ada_sm, X_train_sm, y_train_sm, 'max_depth', np.arange(1, 20, 2))\n",
    "print(\"Validation Curve without month_balance column: \\n\")\n",
    "plotValidationCurve(ada_wo_month_bal, X_train_wo_month_bal, y_train_wo_month_bal, 'max_depth', np.arange(1, 20, 2))"
   ]
  },
  {
   "cell_type": "markdown",
   "metadata": {},
   "source": [
    "## Logistic Regression"
   ]
  },
  {
   "cell_type": "code",
   "execution_count": 17,
   "metadata": {},
   "outputs": [],
   "source": [
    "lr = logisticRegression(X_train, y_train, C=1.0, penalty='l2', solver='lbfgs')\n",
    "lr_sm = logisticRegression(X_train_sm, y_train_sm, C=1.0, penalty='l2', solver='lbfgs')\n",
    "lr_wo_month_bal = logisticRegression(X_train_wo_month_bal, y_train_wo_month_bal, C=1.0, penalty='l2', solver='lbfgs')"
   ]
  },
  {
   "cell_type": "code",
   "execution_count": 18,
   "metadata": {},
   "outputs": [
    {
     "name": "stdout",
     "output_type": "stream",
     "text": [
      "Prediction on test data without SMOTE:  0.9854573976328089\n",
      "Prediction on test data with SMOTE:  0.5056451823426528\n",
      "Prediction on test data without month_balance column:  0.9854573976328089\n"
     ]
    }
   ],
   "source": [
    "lr_pred = lr.predict(X_test)\n",
    "lr_pred_sm = lr_sm.predict(X_test_sm)\n",
    "lr_pred_wo_month_bal = lr_wo_month_bal.predict(X_test_wo_month_bal)\n",
    "\n",
    "print(\"Prediction on test data without SMOTE: \", accuracy_score(y_test, lr_pred))\n",
    "print(\"Prediction on test data with SMOTE: \", accuracy_score(y_test_sm, lr_pred_sm))  \n",
    "print(\"Prediction on test data without month_balance column: \", accuracy_score(y_test_wo_month_bal, lr_pred_wo_month_bal))"
   ]
  },
  {
   "cell_type": "markdown",
   "metadata": {},
   "source": [
    "- Print Metrics"
   ]
  },
  {
   "cell_type": "code",
   "execution_count": null,
   "metadata": {},
   "outputs": [],
   "source": [
    "print(\"Metrics on test data without SMOTE: \\n\")\n",
    "printmetrics(y_test, lr_pred)\n",
    "print(\"Metrics on test data with SMOTE: \\n\")\n",
    "printmetrics(y_test_sm, lr_pred_sm)\n",
    "print(\"Metrics on test data without month_balance column: \\n\")\n",
    "printmetrics(y_test_wo_month_bal, lr_pred_wo_month_bal)"
   ]
  },
  {
   "cell_type": "markdown",
   "metadata": {},
   "source": [
    "- Confusion Matrix"
   ]
  },
  {
   "cell_type": "code",
   "execution_count": null,
   "metadata": {},
   "outputs": [],
   "source": [
    "print(\"Confusion Matrix: \\n\")\n",
    "confusionmatrix(y_test, lr_pred)\n",
    "print(\"Confusion Matrix with SMOTE Model: \\n\")\n",
    "confusionmatrix(y_test_sm, lr_pred_sm)\n",
    "print(\"Confusion Matrix without month_balance column: \\n\")\n",
    "confusionmatrix(y_test_wo_month_bal, lr_pred_wo_month_bal)"
   ]
  },
  {
   "cell_type": "markdown",
   "metadata": {},
   "source": [
    "- Feature Importance"
   ]
  },
  {
   "cell_type": "code",
   "execution_count": null,
   "metadata": {},
   "outputs": [],
   "source": [
    "print(\"Feature Importance: \\n\")\n",
    "plotfeatureimportance(lr, X_train)\n",
    "print(\"Feature Importance with SMOTE Model: \\n\")\n",
    "plotfeatureimportance(lr_sm, X_train_sm)\n",
    "print(\"Feature Importance without month_balance column: \\n\")\n",
    "plotfeatureimportance(lr_wo_month_bal, X_train_wo_month_bal)"
   ]
  },
  {
   "cell_type": "markdown",
   "metadata": {},
   "source": [
    "- PR Curve"
   ]
  },
  {
   "cell_type": "code",
   "execution_count": null,
   "metadata": {},
   "outputs": [],
   "source": [
    "print(\"PR Curve: \\n\")\n",
    "plotpr(y_test, lr_pred)\n",
    "print(\"PR Curve with SMOTE Model: \\n\")\n",
    "plotpr(y_test_sm, lr_pred_sm)\n",
    "print(\"PR Curve without month_balance column: \\n\")\n",
    "plotpr(y_test_wo_month_bal, lr_pred_wo_month_bal)"
   ]
  },
  {
   "cell_type": "markdown",
   "metadata": {},
   "source": [
    "- ROC Curve"
   ]
  },
  {
   "cell_type": "code",
   "execution_count": null,
   "metadata": {},
   "outputs": [],
   "source": [
    "print(\"ROC Curve: \\n\")\n",
    "plotroc(y_test, lr_pred)\n",
    "print(\"ROC Curve with SMOTE Model: \\n\")\n",
    "plotroc(y_test_sm, lr_pred_sm)\n",
    "print(\"ROC Curve without month_balance column: \\n\")\n",
    "plotroc(y_test_wo_month_bal, lr_pred_wo_month_bal)"
   ]
  },
  {
   "cell_type": "markdown",
   "metadata": {},
   "source": [
    "- Learning Curve"
   ]
  },
  {
   "cell_type": "code",
   "execution_count": null,
   "metadata": {},
   "outputs": [],
   "source": [
    "print(\"Learning Curve: \\n\")\n",
    "plotlearningcurve(lr, X_train, y_train)\n",
    "print(\"Learning Curve with SMOTE Model: \\n\")\n",
    "plotlearningcurve(lr_sm, X_train_sm, y_train_sm)\n",
    "print(\"Learning Curve without month_balance column: \\n\")\n",
    "plotlearningcurve(lr_wo_month_bal, X_train_wo_month_bal, y_train_wo_month_bal)"
   ]
  },
  {
   "cell_type": "markdown",
   "metadata": {},
   "source": [
    "- Validation Curve"
   ]
  },
  {
   "cell_type": "code",
   "execution_count": null,
   "metadata": {},
   "outputs": [],
   "source": [
    "print(\"Validation Curve: \\n\")\n",
    "plotValidationCurve(lr, X_train, y_train, 'max_depth', np.arange(1, 20, 2))\n",
    "print(\"Validation Curve with SMOTE Model: \\n\")\n",
    "plotValidationCurve(lr_sm, X_train_sm, y_train_sm, 'max_depth', np.arange(1, 20, 2))\n",
    "print(\"Validation Curve without month_balance column: \\n\")\n",
    "plotValidationCurve(lr_wo_month_bal, X_train_wo_month_bal, y_train_wo_month_bal, 'max_depth', np.arange(1, 20, 2))"
   ]
  },
  {
   "cell_type": "markdown",
   "metadata": {},
   "source": [
    "## Grid Search"
   ]
  },
  {
   "cell_type": "code",
   "execution_count": 19,
   "metadata": {},
   "outputs": [],
   "source": [
    "model_dict = {'Random Forest': RandomForestClassifier(),\n",
    "                'Decision Tree': DecisionTreeClassifier(),\n",
    "                'Logistic Regression': LogisticRegression(),\n",
    "                'XGBoost': XGBClassifier(),\n",
    "                'AdaBoost': AdaBoostClassifier()\n",
    "                }\n",
    "\n",
    "parameters = {  'Random Forest': {'n_estimators': [100, 200, 300, 400, 500],\n",
    "                                'max_depth': [5, 10, 15, 20, 25],\n",
    "                                'max_features': ['auto', 'sqrt'],\n",
    "                                'min_samples_split': [2, 5, 10],\n",
    "                                'min_samples_leaf': [1, 2, 4],\n",
    "                                'bootstrap': [True, False]},\n",
    "\n",
    "                'Decision Tree': {'max_depth': [5, 10, 15, 20, 25],\n",
    "                                'max_features': ['auto', 'sqrt'],\n",
    "                                'min_samples_split': [2, 5, 10],\n",
    "                                'min_samples_leaf': [1, 2, 4]},\n",
    "\n",
    "                'Logistic Regression': {'C': [0.1, 1, 10, 100, 1000],\n",
    "                                      'solver': ['newton-cg', 'lbfgs', 'liblinear', 'sag', 'saga'],\n",
    "                                      'max_iter': [100, 1000, 2500, 5000],\n",
    "                                      'penalty': ['l1', 'l2', 'elasticnet', 'none']},\n",
    "                                      \n",
    "                'XGBoost': {'max_depth': [5, 10, 15, 20, 25],\n",
    "                            'learning_rate': [0.001, 0.01, 0.1, 0.2, 0.3],\n",
    "                            'n_estimators': [100, 200, 300, 400, 500],\n",
    "                            'gamma': [0, 0.1, 0.2, 0.3, 0.4],\n",
    "                            'min_child_weight': [1, 2, 3, 4],\n",
    "                            'subsample': [0.5, 0.6, 0.7, 0.8, 0.9, 1]},\n",
    "\n",
    "                'AdaBoost': {'n_estimators': [50, 100, 150, 200, 250, 300],\n",
    "                            'learning_rate': [0.001, 0.01, 0.1, 0.2, 0.3, 1]}\n",
    "                }\n",
    "\n",
    "\n",
    "best_model_dict = {}\n",
    "for model_name, model in model_dict.items():\n",
    "    best_model = gridSearch(model, parameters[model_name], X_train, y_train, cv=5, scoring='accuracy')\n",
    "    best_model_dict[model_name] = best_model.best_estimator_\n",
    "\n",
    "best_model_dict_sm = {}\n",
    "for model_name, model in model_dict.items():\n",
    "    best_model = gridSearch(model, parameters[model_name], X_train_sm, y_train_sm, cv=5, scoring='accuracy')\n",
    "    best_model_dict_sm[model_name] = best_model.best_estimator_\n",
    "\n"
   ]
  },
  {
   "cell_type": "code",
   "execution_count": null,
   "metadata": {},
   "outputs": [
    {
     "data": {
      "image/png": "[encoded data removed]",
      "text/plain": [
       "<Figure size 1000x600 with 1 Axes>"
      ]
     },
     "metadata": {},
     "output_type": "display_data"
    }
   ],
   "source": [
    "plotfeatureimportance(rf, X_train)"
   ]
  },
  {
   "cell_type": "code",
   "execution_count": null,
   "metadata": {},
   "outputs": [
    {
     "data": {
      "image/png": "[encoded data removed]",
      "text/plain": [
       "<Figure size 1000x600 with 2 Axes>"
      ]
     },
     "metadata": {},
     "output_type": "display_data"
    },
    {
     "data": {
      "text/plain": [
       "array([[   871,   1391],\n",
       "       [   724, 152557]])"
      ]
     },
     "execution_count": 18,
     "metadata": {},
     "output_type": "execute_result"
    }
   ],
   "source": [
    "confusionmatrix(y_test, y_pred)"
   ]
  },
  {
   "cell_type": "code",
   "execution_count": null,
   "metadata": {},
   "outputs": [
    {
     "data": {
      "image/png": "[encoded data removed]",
      "text/plain": [
       "<Figure size 1000x600 with 1 Axes>"
      ]
     },
     "metadata": {},
     "output_type": "display_data"
    }
   ],
   "source": [
    "plotpr(y_test, y_pred)"
   ]
  },
  {
   "cell_type": "code",
   "execution_count": null,
   "metadata": {},
   "outputs": [
    {
     "data": {
      "image/png": "[encoded data removed]",
      "text/plain": [
       "<Figure size 1000x600 with 1 Axes>"
      ]
     },
     "metadata": {},
     "output_type": "display_data"
    }
   ],
   "source": [
    "plotroc(y_test, y_pred)"
   ]
  },
  {
   "cell_type": "code",
   "execution_count": null,
   "metadata": {},
   "outputs": [],
   "source": []
  }
 ],
 "metadata": {
  "kernelspec": {
   "display_name": "base",
   "language": "python",
   "name": "python3"
  },
  "language_info": {
   "codemirror_mode": {
    "name": "ipython",
    "version": 3
   },
   "file_extension": ".py",
   "mimetype": "text/x-python",
   "name": "python",
   "nbconvert_exporter": "python",
   "pygments_lexer": "ipython3",
   "version": "3.9.15"
  }
 },
 "nbformat": 4,
 "nbformat_minor": 2
}
